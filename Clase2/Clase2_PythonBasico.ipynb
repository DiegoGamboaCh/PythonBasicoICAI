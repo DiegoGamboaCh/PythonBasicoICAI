{
 "cells": [
  {
   "cell_type": "markdown",
   "metadata": {},
   "source": [
    "# Python Basico "
   ]
  },
  {
   "cell_type": "markdown",
   "metadata": {},
   "source": [
    "## Estructuras de Datos"
   ]
  },
  {
   "cell_type": "markdown",
   "metadata": {},
   "source": [
    "## Listas\n",
    "\n",
    "- Considerado el tipo de objeto más flexible en Pythom\n",
    "- Pueden alojar cualquier tipo de dato\n",
    "- Las listas se pueden acceder a cada posición utilizando un índice\n",
    "- Se implementaron como listas doblemente enlazadas, por lo que desde un elemento se puede acceder tanto al siguiente en la lista como al anterior\n",
    "- Se considera uno de los tipos de dato más utilizado y versátil\n",
    "- Las listas se pueden construir de diferentes formas:\n",
    "    - Usando un par de corchetes para definir una lista vacía: []\n",
    "    - Usando corchetes, separando los elementos incluidos con comas: [a], [a, b, c]\n",
    "    - Usando una lista intensiva o por comprensión: [x for x in iterable]\n",
    "    <!-- - Usando el constructor de tipo: list() o list(iterable) -->\n",
    "\n",
    "\n",
    "\n"
   ]
  },
  {
   "cell_type": "markdown",
   "metadata": {},
   "source": [
    "### Lista Simple"
   ]
  },
  {
   "cell_type": "code",
   "execution_count": 1,
   "metadata": {},
   "outputs": [
    {
     "name": "stdout",
     "output_type": "stream",
     "text": [
      "[1, 2, 3, 4, 5, 6]\n"
     ]
    }
   ],
   "source": [
    "mi_lista = [1,2,3,4,5,6]\n",
    "print(mi_lista)"
   ]
  },
  {
   "cell_type": "code",
   "execution_count": 2,
   "metadata": {},
   "outputs": [
    {
     "name": "stdout",
     "output_type": "stream",
     "text": [
      "[1, 2, 3, 'a', 'b', 'c', 1.2]\n"
     ]
    }
   ],
   "source": [
    "mi_lista = [1,2,3,'a','b','c',1.2]\n",
    "print(mi_lista)"
   ]
  },
  {
   "cell_type": "code",
   "execution_count": 3,
   "metadata": {},
   "outputs": [
    {
     "name": "stdout",
     "output_type": "stream",
     "text": [
      "[1, 2, 3, 4, 5, 6]\n"
     ]
    }
   ],
   "source": [
    "mi_lista3 = list((1,2,3,4,5,6))\n",
    "print(mi_lista3)"
   ]
  },
  {
   "cell_type": "code",
   "execution_count": 4,
   "metadata": {},
   "outputs": [
    {
     "name": "stdout",
     "output_type": "stream",
     "text": [
      "['B', 'i', 'e', 'n', 'v', 'e', 'n', 'i', 'd', 'o', 's']\n"
     ]
    }
   ],
   "source": [
    "mi_lista4 = list('Bienvenidos') # esto es posible dado que un string es un objeto iterable\n",
    "print(mi_lista4)"
   ]
  },
  {
   "cell_type": "code",
   "execution_count": 5,
   "metadata": {},
   "outputs": [
    {
     "name": "stdout",
     "output_type": "stream",
     "text": [
      "[1, 1, 1]\n"
     ]
    }
   ],
   "source": [
    "mi_lista5 = [1]*3 # inicializamos una lista con 3 valores\n",
    "print(mi_lista5)"
   ]
  },
  {
   "cell_type": "code",
   "execution_count": 6,
   "metadata": {},
   "outputs": [
    {
     "name": "stdout",
     "output_type": "stream",
     "text": [
      "[0, 1, 2, 3, 4]\n"
     ]
    }
   ],
   "source": [
    "mi_lista5 = list(range(5)) # inicializamos una lista mediante un rango que es un objeto iterable\n",
    "print(mi_lista5)"
   ]
  },
  {
   "cell_type": "markdown",
   "metadata": {},
   "source": [
    "### Listas Anidadas o Matrices"
   ]
  },
  {
   "cell_type": "code",
   "execution_count": 7,
   "metadata": {},
   "outputs": [
    {
     "name": "stdout",
     "output_type": "stream",
     "text": [
      "[[0, 1], [0, 1]]\n"
     ]
    }
   ],
   "source": [
    "mult_lista =  [[0, 1], [0, 1]] #  listas anidadas o matriz  sencilla 2x2\n",
    "print(mult_lista)"
   ]
  },
  {
   "cell_type": "code",
   "execution_count": 8,
   "metadata": {},
   "outputs": [
    {
     "name": "stdout",
     "output_type": "stream",
     "text": [
      "([[0, 1], [0, 1]], [[0, 1], [0, 1]])\n"
     ]
    }
   ],
   "source": [
    "mult_lista2 =  [[0, 1], [0, 1]], [[0, 1], [0, 1]] # matriz compleja\n",
    "print(mult_lista2)"
   ]
  },
  {
   "cell_type": "code",
   "execution_count": 9,
   "metadata": {},
   "outputs": [
    {
     "name": "stdout",
     "output_type": "stream",
     "text": [
      "[[[[0, 1], [0, 1]], [[0, 1], [0, 1]]], [[[0, 1], [0, 1]], [[0, 1], [0, 1]]]]\n"
     ]
    }
   ],
   "source": [
    "mult_lista3 =  [[[[0, 1], [0, 1]], [[0, 1], [0, 1]]], \n",
    "[[[0, 1], [0, 1]], [[0, 1], [0, 1]]]]  # matriz compleja\n",
    "print(mult_lista3)\n"
   ]
  },
  {
   "cell_type": "markdown",
   "metadata": {},
   "source": [
    "### Acceso a las listas\n",
    "\n",
    "- Para acceder a la primera posición de la lista se utiliza 0 y para acceder a la última se utiliza -1, y en ese intervalo se pueden acceder a todas las posiciones"
   ]
  },
  {
   "cell_type": "code",
   "execution_count": 10,
   "metadata": {},
   "outputs": [
    {
     "data": {
      "text/plain": [
       "'a'"
      ]
     },
     "execution_count": 10,
     "metadata": {},
     "output_type": "execute_result"
    }
   ],
   "source": [
    "letras = ['a', 'b', 'c', 'd', 'e', 'f']\n",
    "letras[0]\n"
   ]
  },
  {
   "cell_type": "code",
   "execution_count": 11,
   "metadata": {},
   "outputs": [
    {
     "data": {
      "text/plain": [
       "'f'"
      ]
     },
     "execution_count": 11,
     "metadata": {},
     "output_type": "execute_result"
    }
   ],
   "source": [
    "letras[-1] # usamos aqui el orden inverso"
   ]
  },
  {
   "cell_type": "code",
   "execution_count": 12,
   "metadata": {},
   "outputs": [
    {
     "data": {
      "text/plain": [
       "[0, 1]"
      ]
     },
     "execution_count": 12,
     "metadata": {},
     "output_type": "execute_result"
    }
   ],
   "source": [
    "# aquí tenemos un acceso a un lista anidada\n",
    "mult_lista2[1][0]"
   ]
  },
  {
   "cell_type": "markdown",
   "metadata": {},
   "source": [
    "#### Juegue aquí con los accesos a las lista ya creadas  usando numeros negativos inclusive"
   ]
  },
  {
   "cell_type": "code",
   "execution_count": 13,
   "metadata": {},
   "outputs": [],
   "source": [
    "#-------- Cree aquí sus propios ejercicios de acceso a listas y comparta sus resultados\n"
   ]
  },
  {
   "cell_type": "markdown",
   "metadata": {},
   "source": [
    "### Slicing en listas o sublistas\n",
    "\n",
    "\n",
    "Es una forma avanzada y simple de crear sublistas de elementos internos de una lista, usando la técnica del slicing. Esta técnica está disponible para cualquier iterador y es muy útil\n",
    "\n",
    "\n",
    "La forma básica del slicing es:   \n",
    " - **[posicion_inicial:posicion_final[:paso]]**  "
   ]
  },
  {
   "cell_type": "code",
   "execution_count": 14,
   "metadata": {},
   "outputs": [],
   "source": [
    "letras = ['a', 'b', 'c', 'd', 'e', 'f', 'g', 'h', 'i']"
   ]
  },
  {
   "cell_type": "code",
   "execution_count": 15,
   "metadata": {},
   "outputs": [
    {
     "data": {
      "text/plain": [
       "['c', 'd', 'e', 'f', 'g', 'h']"
      ]
     },
     "execution_count": 15,
     "metadata": {},
     "output_type": "execute_result"
    }
   ],
   "source": [
    "letras[2:8]"
   ]
  },
  {
   "cell_type": "code",
   "execution_count": 16,
   "metadata": {},
   "outputs": [
    {
     "data": {
      "text/plain": [
       "['c', 'e', 'g']"
      ]
     },
     "execution_count": 16,
     "metadata": {},
     "output_type": "execute_result"
    }
   ],
   "source": [
    "letras[2:8:2]"
   ]
  },
  {
   "cell_type": "code",
   "execution_count": 17,
   "metadata": {},
   "outputs": [
    {
     "data": {
      "text/plain": [
       "['c', 'd', 'e', 'f', 'g', 'h', 'i']"
      ]
     },
     "execution_count": 17,
     "metadata": {},
     "output_type": "execute_result"
    }
   ],
   "source": [
    "letras[2:]"
   ]
  },
  {
   "cell_type": "code",
   "execution_count": 18,
   "metadata": {},
   "outputs": [
    {
     "data": {
      "text/plain": [
       "['a', 'b']"
      ]
     },
     "execution_count": 18,
     "metadata": {},
     "output_type": "execute_result"
    }
   ],
   "source": [
    "letras[:2]"
   ]
  },
  {
   "cell_type": "code",
   "execution_count": 19,
   "metadata": {},
   "outputs": [
    {
     "data": {
      "text/plain": [
       "['a', 'b', 'c', 'd', 'e', 'f', 'g']"
      ]
     },
     "execution_count": 19,
     "metadata": {},
     "output_type": "execute_result"
    }
   ],
   "source": [
    "letras[:-2]"
   ]
  },
  {
   "cell_type": "code",
   "execution_count": 20,
   "metadata": {},
   "outputs": [
    {
     "data": {
      "text/plain": [
       "['a', 'c']"
      ]
     },
     "execution_count": 20,
     "metadata": {},
     "output_type": "execute_result"
    }
   ],
   "source": [
    "letras[:-6:2]"
   ]
  },
  {
   "cell_type": "markdown",
   "metadata": {},
   "source": [
    "#### Bonus Track"
   ]
  },
  {
   "cell_type": "code",
   "execution_count": 21,
   "metadata": {},
   "outputs": [
    {
     "name": "stdout",
     "output_type": "stream",
     "text": [
      "['a', 'b', 'c', 4, 5, 6, 'f', 'g', 'h', 'i']\n"
     ]
    }
   ],
   "source": [
    "# Podemos hacer asignaciones y con ello reemplazo de elementos en la lista\n",
    "letras[3:5] = [4, 5, 6]\n",
    "print(letras)\n"
   ]
  },
  {
   "cell_type": "markdown",
   "metadata": {},
   "source": [
    "### List Comprehensions\n",
    "\n",
    "Son una forma de crear listas de una manera elegante,  simplificando el código al máximo.\n",
    "\n",
    "La estructura básica es **[   expresion(i)   for i in list   if condición   ]**"
   ]
  },
  {
   "cell_type": "code",
   "execution_count": 22,
   "metadata": {},
   "outputs": [
    {
     "data": {
      "text/plain": [
       "[0, 1, 2, 3, 4]"
      ]
     },
     "execution_count": 22,
     "metadata": {},
     "output_type": "execute_result"
    }
   ],
   "source": [
    "lista = [1,2,3,4,5]\n",
    "compreh_list = [ i for i in range(5)]\n",
    "compreh_list"
   ]
  },
  {
   "cell_type": "code",
   "execution_count": 23,
   "metadata": {},
   "outputs": [
    {
     "data": {
      "text/plain": [
       "[0, 2, 4, 6, 8]"
      ]
     },
     "execution_count": 23,
     "metadata": {},
     "output_type": "execute_result"
    }
   ],
   "source": [
    "compreh_list = [ i*2 for i in range(5)]\n",
    "compreh_list"
   ]
  },
  {
   "cell_type": "markdown",
   "metadata": {},
   "source": [
    "### Metodos disponibles en listas"
   ]
  },
  {
   "attachments": {
    "image.png": {
     "image/png": "[encoded data removed]"
    }
   },
   "cell_type": "markdown",
   "metadata": {},
   "source": [
    "\n",
    "![image.png](attachment:image.png)"
   ]
  },
  {
   "cell_type": "markdown",
   "metadata": {},
   "source": [
    "### **Actividad Asincrónica**:  Realice una investigación en diferentes sitios para crear sus propios ejemplos sobre el uso de cada uno de los métodos antes indicados"
   ]
  },
  {
   "cell_type": "code",
   "execution_count": 24,
   "metadata": {},
   "outputs": [],
   "source": [
    "# -------- Incluya aqui los ejemplos creados y comparta sus allazgos con el grupo\n",
    "# append()\n",
    "# extend()\n",
    "# insert(indice, elemento)\n",
    "# remove(elemento)\n",
    "# pop([i])\n",
    "# clear()\n",
    "# index(elemento)\n",
    "# count(elemento)\n",
    "# sort()\n",
    "# reverse()\n",
    "# copy()\n",
    "\n",
    "\n"
   ]
  },
  {
   "cell_type": "markdown",
   "metadata": {},
   "source": [
    "#### Bonus Track\n",
    "Cómo saber si un elemento está en una lista en Python mediante el uso del operador in\n",
    "\n",
    "ver https://docs.python.org/es/3.10/reference/expressions.html\n",
    "\n"
   ]
  },
  {
   "cell_type": "code",
   "execution_count": 25,
   "metadata": {},
   "outputs": [
    {
     "name": "stdout",
     "output_type": "stream",
     "text": [
      "Si\n",
      "No\n"
     ]
    }
   ],
   "source": [
    "vocales = ['a', 'e', 'i', 'o', 'u']\n",
    "if 'a' in vocales:\n",
    "    print(\"Si\")\n",
    "\n",
    "if 'b' not in vocales:\n",
    "    print(\"No\")\n"
   ]
  },
  {
   "cell_type": "markdown",
   "metadata": {},
   "source": [
    "## Tuplas\n",
    "- Es una colección de objetos inmutables separados por comas\n",
    "- Similares a las listas , pero se usan paréntesis\n",
    "- Pueden alojar cualquier tipo de datos\n",
    "- La iteración es más rápida que las listas\n"
   ]
  },
  {
   "cell_type": "markdown",
   "metadata": {},
   "source": [
    "### Tupla Simple"
   ]
  },
  {
   "cell_type": "code",
   "execution_count": null,
   "metadata": {},
   "outputs": [],
   "source": [
    "mi_tupla = (1,2,3,4,5,6)\n",
    "print(mi_tupla)"
   ]
  },
  {
   "cell_type": "code",
   "execution_count": null,
   "metadata": {},
   "outputs": [],
   "source": [
    "mi_tupla2 = 3, 'a', 8, 7.2, 'hola' # ojo esta forma de crear una tupla\n",
    "print(mi_tupla2)"
   ]
  },
  {
   "cell_type": "code",
   "execution_count": null,
   "metadata": {},
   "outputs": [],
   "source": [
    "# incluso pueden contener otros elementos compuestos y objetos, como listas, otras tuplas, etc.\n",
    "mi_tupla3 = 1, ['a', 'e', 'i', 'o', 'u'], 8.9, 'hola'\n",
    "print(mi_tupla3)"
   ]
  },
  {
   "cell_type": "markdown",
   "metadata": {},
   "source": [
    "### Acceso a tuplas"
   ]
  },
  {
   "cell_type": "code",
   "execution_count": null,
   "metadata": {},
   "outputs": [],
   "source": [
    "mi_tupla4 = (1,2,3,4,5,6)\n",
    "mi_tupla4[0]"
   ]
  },
  {
   "cell_type": "code",
   "execution_count": null,
   "metadata": {},
   "outputs": [],
   "source": [
    "mi_tupla4[-1]"
   ]
  },
  {
   "cell_type": "markdown",
   "metadata": {},
   "source": [
    "### Slicing en tuplas\n",
    "Al igual que las listas, podemos hacer particiones de una tupla de manera muy similar\n"
   ]
  },
  {
   "cell_type": "code",
   "execution_count": null,
   "metadata": {},
   "outputs": [],
   "source": [
    "vocales = 'a', 'e', 'i', 'o', 'u'\n",
    "vocales[2:3]  # Elementos desde el índice 2 hasta el índice 3-1\n",
    "\n"
   ]
  },
  {
   "cell_type": "code",
   "execution_count": null,
   "metadata": {},
   "outputs": [],
   "source": [
    "vocales[2:4]  # Elementos desde el 2 hasta el índice 4-1\n"
   ]
  },
  {
   "cell_type": "code",
   "execution_count": null,
   "metadata": {},
   "outputs": [],
   "source": [
    "vocales[:]  # Todos los elementos\n"
   ]
  },
  {
   "cell_type": "code",
   "execution_count": null,
   "metadata": {},
   "outputs": [],
   "source": [
    "vocales[1:]  # Elementos desde el índice 1\n"
   ]
  },
  {
   "cell_type": "code",
   "execution_count": null,
   "metadata": {},
   "outputs": [],
   "source": [
    "vocales[:3]  # Elementos hasta el índice 3-1"
   ]
  },
  {
   "cell_type": "code",
   "execution_count": null,
   "metadata": {},
   "outputs": [],
   "source": [
    "vocales[:-2]  # Elementos desde el índice -2"
   ]
  },
  {
   "cell_type": "markdown",
   "metadata": {},
   "source": [
    "### Bonus Track\n",
    " \n",
    " Las tuplas son objetos inmutables. No obstante, las tuplas pueden contener objetos u otros elementos de tipo secuencia, por ejemplo, una lista. Estos objetos  si son mutables, por ende sí se pueden modificar"
   ]
  },
  {
   "cell_type": "code",
   "execution_count": null,
   "metadata": {},
   "outputs": [],
   "source": [
    "tupla = (1, ['a', 'b'], 'hola', 8.2)\n",
    "tupla[1].append('c')  # tupla[1] hace referencia a la lista\n",
    "tupla\n"
   ]
  },
  {
   "cell_type": "markdown",
   "metadata": {},
   "source": [
    "### **Actividad Asincrónica**: Investigue como saber si un elemento se encuentra en una tupla y cree el ejemplo correspodiente"
   ]
  },
  {
   "cell_type": "code",
   "execution_count": 26,
   "metadata": {},
   "outputs": [],
   "source": [
    "# ---- cree aqui su ejemplo"
   ]
  },
  {
   "cell_type": "markdown",
   "metadata": {},
   "source": [
    "### Métodos de las tuplas"
   ]
  },
  {
   "attachments": {
    "image.png": {
     "image/png": "[encoded data removed]"
    }
   },
   "cell_type": "markdown",
   "metadata": {},
   "source": [
    "![image.png](attachment:image.png)"
   ]
  },
  {
   "cell_type": "markdown",
   "metadata": {},
   "source": [
    "### **Actividad Asincrónica**: Cree un ejemplo que muestre el uso de los métodos anteriormente indicados"
   ]
  },
  {
   "cell_type": "code",
   "execution_count": null,
   "metadata": {},
   "outputs": [],
   "source": [
    "# --- cree aqui sus ejemplos"
   ]
  },
  {
   "cell_type": "code",
   "execution_count": null,
   "metadata": {},
   "outputs": [],
   "source": []
  },
  {
   "cell_type": "markdown",
   "metadata": {},
   "source": [
    "## Conjuntos o Set\n",
    "- Los conjuntos son uno de los tipos básicos que provee Python. Representan un objeto capaz de almacenar elementos únicos, que además están indexados, por lo que son de gran utilidad para buscar elementos.\n",
    "- Los conjuntos son utilizados en álgebra de conjuntos para hacer operaciones sobre grupos de valores, además de ser utilizados en muchos ámbitos del cálculo.\n",
    "- En Python los conjuntos pueden almacenar valores numéricos o de cualquier tipo, siempre y cuando los valores sean «hasheables». Los conjuntos son tipos mutables, se garantiza que todos sus elementos son únicos, pero no se garantiza que estén ordenados.\n",
    "- Ejemplos de tipos hasheables son: los enteros, las cadenas de caracteres, o las tuplas. Sin embargo, las listas no son hasheables, por tanto un conjunto no puede contener listas, pero sí cadenas de caracteres o números"
   ]
  },
  {
   "cell_type": "markdown",
   "metadata": {},
   "source": [
    "### Creación de conjuntos"
   ]
  },
  {
   "cell_type": "code",
   "execution_count": null,
   "metadata": {},
   "outputs": [],
   "source": [
    "mi_conj1 = set(['Ana', 'Marcos', 'Carlos', 'Mario'])\n",
    "mi_conj1\n",
    "\n",
    "\n"
   ]
  },
  {
   "cell_type": "code",
   "execution_count": null,
   "metadata": {},
   "outputs": [],
   "source": [
    "mi_conj2 = {'Ana', 'Pedro', 'Carlos', 'Antonio'} # ojo esta forama de crear conjuntos\n",
    "mi_conj3 = {'Ana', 'Antonio', 'Marcos', 'Pepe'}\n",
    "mi_conj3"
   ]
  },
  {
   "cell_type": "markdown",
   "metadata": {},
   "source": [
    "### Métodos de conjuntos"
   ]
  },
  {
   "cell_type": "markdown",
   "metadata": {},
   "source": [
    "![alt text](image-2.png)"
   ]
  },
  {
   "cell_type": "markdown",
   "metadata": {},
   "source": [
    "#### Algebra de conjuntos "
   ]
  },
  {
   "cell_type": "code",
   "execution_count": null,
   "metadata": {},
   "outputs": [],
   "source": [
    "mi_conj1.union(mi_conj2)\n",
    "mi_conj1.difference(mi_conj2)\n",
    "mi_conj1.intersection(mi_conj2)\n",
    "mi_conj1.isdisjoint(mi_conj2)\n",
    "mi_conj1.isdisjoint({1, 2})\n",
    "mi_conj1.issubset(mi_conj2)\n",
    "mi_conj1.issubset({'Marcos'})\n",
    "mi_conj1.issubset(mi_conj1)\n",
    "mi_conj1.issuperset(mi_conj1)\n",
    "mi_conj1.issuperset(mi_conj2)\n",
    "mi_conj1.issuperset({'Marcos'})\n",
    "mi_conj1.symmetric_difference(mi_conj2)\n"
   ]
  },
  {
   "cell_type": "markdown",
   "metadata": {},
   "source": [
    "#### Operaciones con conjuntos"
   ]
  },
  {
   "cell_type": "markdown",
   "metadata": {},
   "source": [
    "**Actividad Asincrónica** Ejecute las siguientes operaciones; observe y documente que es lo que ocurre con cada ejecición de las instrucción  "
   ]
  },
  {
   "cell_type": "code",
   "execution_count": null,
   "metadata": {},
   "outputs": [],
   "source": [
    "len(mi_conj1)\n",
    "\n",
    "mi_conj1.add('Pepe')\n",
    "\n",
    "mi_conj1.remove('Ana')\n",
    "\n",
    "mi_conj1.pop()\n",
    "mi_conj1.pop()\n",
    "mi_conj1\n",
    "\n",
    "mi_conj1.remove('Pepe')\n",
    "\n",
    "mi_conj1.discard('Pepe')\n",
    "\n",
    "mi_conj1 > mi_conj2\n",
    "\n",
    "mi_conj1 or mi_conj2\n",
    "\n",
    "mi_conj1 and mi_conj2\n",
    "\n",
    "mi_conj1, mi_conj1\n"
   ]
  },
  {
   "cell_type": "markdown",
   "metadata": {},
   "source": [
    "## Diccionarios\n",
    "Los diccionarios o mapas son colecciones de pares de valores\n",
    "- Las claves son únicas en cada diccionario.\n",
    "- Las claves tienen que poder ser hasheables.\n",
    "- Los valores pueden ser de cualquier tipo en Python.\n",
    "- Se pueden componer diccionarios de diccionarios.\n",
    "- No existe límite de espacio para guardar diccionarios (salvo el límite físico de la máquina).\n"
   ]
  },
  {
   "cell_type": "markdown",
   "metadata": {},
   "source": [
    "Para crear diccionarios en Python se puede utilizar:\n",
    "\n",
    "- El constructor dict y argumentos. Ej: dict(color='Azul', num=4)\n",
    "- Constructor dict y pares de valores. Ej: dict([('color', 'Azul'), ('num', 4)])\n",
    "- Usando un literal de pares separados por ':' y rodeado por {}. Ej: {'color': 'Azul', 'num': 4}"
   ]
  },
  {
   "cell_type": "markdown",
   "metadata": {},
   "source": [
    "### Creación de diccionarios"
   ]
  },
  {
   "cell_type": "code",
   "execution_count": null,
   "metadata": {},
   "outputs": [],
   "source": [
    "# 1. Pares clave: valor encerrados entre llaves\n",
    "mi_dic = {'uno': 1, 'dos': 2, 'tres': 3}\n",
    "mi_dic\n"
   ]
  },
  {
   "cell_type": "code",
   "execution_count": null,
   "metadata": {},
   "outputs": [],
   "source": [
    "# 2. Argumentos con nombre\n",
    "mi_dic2 = dict(uno=1, dos=2, tres=3)\n",
    "mi_dic2"
   ]
  },
  {
   "cell_type": "code",
   "execution_count": null,
   "metadata": {},
   "outputs": [],
   "source": [
    "# 3. Pares clave: valor encerrados entre llaves\n",
    "mi_dic3 = dict({'uno': 1, 'dos': 2, 'tres': 3})\n",
    "mi_dic3\n"
   ]
  },
  {
   "cell_type": "code",
   "execution_count": null,
   "metadata": {},
   "outputs": [],
   "source": [
    "# 4. Iterable que contiene iterables con dos elementos\n",
    "mi_dic4 = dict([('uno', 1), ('dos', 2), ('tres', 3)])\n",
    "mi_dic4\n"
   ]
  },
  {
   "cell_type": "code",
   "execution_count": null,
   "metadata": {},
   "outputs": [],
   "source": [
    "# 5. Diccionario vacío\n",
    "mi_dic5 = {}\n",
    "mi_dic5"
   ]
  },
  {
   "cell_type": "code",
   "execution_count": null,
   "metadata": {},
   "outputs": [],
   "source": [
    "\n",
    "# 6. Diccionario vacío usando el constructor\n",
    "mi_dic6 = dict()\n",
    "mi_dic6\n"
   ]
  },
  {
   "cell_type": "markdown",
   "metadata": {},
   "source": [
    "### Acceso a diccionarios"
   ]
  },
  {
   "cell_type": "code",
   "execution_count": null,
   "metadata": {},
   "outputs": [],
   "source": [
    " mi_dic = {'uno': 1, 'dos': 2, 'tres': 3}\n",
    "mi_dic['dos']"
   ]
  },
  {
   "cell_type": "code",
   "execution_count": null,
   "metadata": {},
   "outputs": [],
   "source": [
    "mi_dic[2] # observe que utilizando un índice no es posible "
   ]
  },
  {
   "cell_type": "code",
   "execution_count": null,
   "metadata": {},
   "outputs": [],
   "source": [
    "# Devuelve 4 como valor por defecto si no encuentra la clave\n",
    "mi_dic.get('cuatro', 4)\n",
    "\n",
    "\n"
   ]
  },
  {
   "cell_type": "markdown",
   "metadata": {},
   "source": [
    "**Actividad Asincrónica** : De respuesta a los siguientes problemas utilizando diccionarios"
   ]
  },
  {
   "cell_type": "code",
   "execution_count": null,
   "metadata": {},
   "outputs": [],
   "source": [
    "# Devuelve None como valor por defecto si no encuentra la clave\n",
    "a = mi_dic.get('cuatro')\n",
    "type(a)\n"
   ]
  },
  {
   "cell_type": "markdown",
   "metadata": {},
   "source": [
    "### Agregar elementos a un diccionario\n",
    "recuerde que un diccionario  es mutable, por lo que se pueden añadir, modificar y/o eliminar elementos después de haber creado un objeto de este tipo"
   ]
  },
  {
   "cell_type": "code",
   "execution_count": null,
   "metadata": {},
   "outputs": [],
   "source": [
    "dic = {'uno': 1, 'dos': 2}\n",
    "# Añade un nuevo elemento al diccionario\n",
    "dic['tres'] = 3\n",
    "dic\n"
   ]
  },
  {
   "cell_type": "code",
   "execution_count": null,
   "metadata": {},
   "outputs": [],
   "source": [
    "# Si la clave ya existe en el diccionario, se actualiza su valor\n",
    "dic['tres'] = 3.0\n",
    "dic"
   ]
  },
  {
   "cell_type": "markdown",
   "metadata": {},
   "source": [
    "### Eliminar elementos de un diccionario"
   ]
  },
  {
   "cell_type": "markdown",
   "metadata": {},
   "source": [
    "La diferentes formas de hacerlo son: \n",
    "\n",
    "- pop(clave [, valor por defecto]): Si la clave está en el diccionario, elimina el elemento y devuelve su valor; si no, devuelve el valor por defecto. Si no se proporciona el valor por defecto y la clave no está en el diccionario, se lanza la excepción KeyError.\n",
    "\n",
    "- popitem(): Elimina el último par clave: valor del diccionario y lo devuelve. Si el diccionario está vacío se lanza la excepción KeyError. (NOTA: En versiones anteriores a Python 3.7, se elimina/devuelve un par aleatorio, no se garantiza que sea el último).\n",
    "\n",
    "- del d[clave]: Elimina el par clave: valor. Si no existe la clave, se lanza la excepción KeyError.\n",
    "\n",
    "- clear(): Borra todos los pares clave: valor del diccionario."
   ]
  },
  {
   "cell_type": "code",
   "execution_count": null,
   "metadata": {},
   "outputs": [],
   "source": [
    "d = {'uno': 1, 'dos': 2, 'tres': 3, 'cuatro': 4, 'cinco': 5}\n",
    "\n",
    "# Eliminar un elemento con pop()\n",
    "d.pop('uno')\n",
    "d"
   ]
  },
  {
   "cell_type": "code",
   "execution_count": null,
   "metadata": {},
   "outputs": [],
   "source": [
    "# eliminar una clave con pop() que no existe\n",
    "d.pop(6)\n",
    "\n"
   ]
  },
  {
   "cell_type": "code",
   "execution_count": null,
   "metadata": {},
   "outputs": [],
   "source": [
    "# Eliminar un elemento con popitem()\n",
    "d.popitem()\n",
    "# remueve  ('cinco', 5)\n",
    "d\n"
   ]
  },
  {
   "cell_type": "code",
   "execution_count": null,
   "metadata": {},
   "outputs": [],
   "source": [
    "# Eliminae un elemento con del\n",
    "del d['tres']\n",
    "d\n",
    "\n",
    "\n"
   ]
  },
  {
   "cell_type": "code",
   "execution_count": null,
   "metadata": {},
   "outputs": [],
   "source": [
    "# eliminar una clave con del que no existe\n",
    "del d['seis']\n",
    "\n"
   ]
  },
  {
   "cell_type": "code",
   "execution_count": null,
   "metadata": {},
   "outputs": [],
   "source": [
    "# Borra todos los elementos del diccionario\n",
    "d.clear()\n",
    "d"
   ]
  },
  {
   "cell_type": "markdown",
   "metadata": {},
   "source": [
    "### Comprobar elemento en un diccionario "
   ]
  },
  {
   "cell_type": "code",
   "execution_count": null,
   "metadata": {},
   "outputs": [],
   "source": [
    "d = {'uno': 1, 'dos': 2, 'tres': 3, 'cuatro': 4, 'cinco': 5}\n",
    "print('uno' in d)\n"
   ]
  },
  {
   "cell_type": "code",
   "execution_count": null,
   "metadata": {},
   "outputs": [],
   "source": [
    "\n",
    "print(1  in d)\n"
   ]
  },
  {
   "cell_type": "code",
   "execution_count": null,
   "metadata": {},
   "outputs": [],
   "source": [
    "\n",
    "print(1 not in d)\n"
   ]
  },
  {
   "cell_type": "markdown",
   "metadata": {},
   "source": [
    "### Obtener valores de un diccionario"
   ]
  },
  {
   "cell_type": "code",
   "execution_count": null,
   "metadata": {},
   "outputs": [],
   "source": [
    "d = {'uno': 1, 'dos': 2, 'tres': 3}\n",
    "list(d) # devuelve una lista con los campos llave\n"
   ]
  },
  {
   "cell_type": "code",
   "execution_count": null,
   "metadata": {},
   "outputs": [],
   "source": [
    "v = d.keys()\n",
    "#type(v) # descomente para observar el tipo\n",
    "v"
   ]
  },
  {
   "cell_type": "code",
   "execution_count": null,
   "metadata": {},
   "outputs": [],
   "source": [
    "l = list(d)\n",
    "#type(l) # descomente para observar el tipo\n",
    "l\n"
   ]
  },
  {
   "cell_type": "code",
   "execution_count": null,
   "metadata": {},
   "outputs": [],
   "source": [
    "\n",
    "v = d.values()\n",
    "#type(v) # descomente para observar el tipo\n",
    "v\n"
   ]
  },
  {
   "cell_type": "code",
   "execution_count": null,
   "metadata": {},
   "outputs": [],
   "source": [
    "\n",
    "v = d.items()\n",
    "# type(v)# descomente para observar el tipo\n",
    "v"
   ]
  },
  {
   "cell_type": "markdown",
   "metadata": {},
   "source": [
    "### Métodos sobre diccionarios"
   ]
  },
  {
   "cell_type": "markdown",
   "metadata": {},
   "source": [
    "![alt text](image-3.png)"
   ]
  },
  {
   "cell_type": "markdown",
   "metadata": {},
   "source": [
    "### **Actividad Asincrónica** De respuesta a los siguientes problemas utilizando diccionarios"
   ]
  },
  {
   "cell_type": "markdown",
   "metadata": {},
   "source": [
    "1. Escribir un programa que guarde en un diccionario los precios de  frutas por kilo , pregunte al usuario por una fruta, un número de kilos y muestre por pantalla el precio de ese número de kilos de fruta. Si la fruta no está en el diccionario debe mostrar un mensaje informando de ello."
   ]
  },
  {
   "cell_type": "markdown",
   "metadata": {},
   "source": [
    "2. Escribir un programa que cree un diccionario vacío y lo vaya llenado con información sobre una persona  nombre, edad, sexo, teléfono, correo electrónico que se le vaya pidiendo  al usuario. Cada vez que se añada un nuevo dato debe imprimirse el contenido del diccionario."
   ]
  }
 ],
 "metadata": {
  "kernelspec": {
   "display_name": "base",
   "language": "python",
   "name": "python3"
  },
  "language_info": {
   "codemirror_mode": {
    "name": "ipython",
    "version": 3
   },
   "file_extension": ".py",
   "mimetype": "text/x-python",
   "name": "python",
   "nbconvert_exporter": "python",
   "pygments_lexer": "ipython3",
   "version": "3.12.4"
  }
 },
 "nbformat": 4,
 "nbformat_minor": 2
}
