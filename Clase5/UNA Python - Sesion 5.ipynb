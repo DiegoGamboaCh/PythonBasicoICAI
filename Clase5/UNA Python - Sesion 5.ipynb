{
 "cells": [
  {
   "cell_type": "markdown",
   "id": "30718308-b1ef-416a-8f94-000335454da8",
   "metadata": {},
   "source": [
    "# Python Básico \n"
   ]
  },
  {
   "cell_type": "markdown",
   "id": "a69374dc",
   "metadata": {},
   "source": [
    "- Manejo de Archivos \n",
    "    - Creación/Apertura de Archivos\n",
    "    - Cierre de Archivos\n",
    "    - Escritura a Archivos\n",
    "    - Lectura de Archivos\n",
    "    - Borrado de Archivos\n",
    "    - Archivos CSV \n",
    "    - Archivos  en  Internet\n",
    "\n"
   ]
  },
  {
   "cell_type": "markdown",
   "id": "d9b68577",
   "metadata": {},
   "source": [
    "## Directorio de trabajo"
   ]
  },
  {
   "cell_type": "markdown",
   "id": "2ebbd848",
   "metadata": {},
   "source": [
    "El módulo os de Python le permite a usted realizar operaciones dependiente del Sistema Operativo como crear una carpeta, listar contenidos de una carpeta, conocer acerca de un proceso, finalizar un proceso, etc. Este módulo tiene métodos para ver variables de entornos del Sistema Operativo con las cuales Python esta trabajando en mucho más.\n",
    "\n",
    "Ver  https://docs.python.org/3.8/library/os.html"
   ]
  },
  {
   "cell_type": "code",
   "execution_count": 1,
   "id": "93606c04",
   "metadata": {},
   "outputs": [],
   "source": [
    "# se importa el módulo  de manejo del sistema operativo\n",
    "\n",
    "import os "
   ]
  },
  {
   "cell_type": "code",
   "execution_count": 2,
   "id": "7884cf12",
   "metadata": {},
   "outputs": [
    {
     "name": "stdout",
     "output_type": "stream",
     "text": [
      "c:\\Users\\sebas\\OneDrive\\Documents\\ICAI\\Python Básico 4A-2024\\Sesion5\n"
     ]
    }
   ],
   "source": [
    "#Averigua el directorio de trabajo actual\n",
    "current_working_directory = os.getcwd()\n",
    "print(current_working_directory)"
   ]
  },
  {
   "cell_type": "code",
   "execution_count": 3,
   "id": "5164be33",
   "metadata": {},
   "outputs": [],
   "source": [
    "#Cambia el  directorio actual de trabajo\n",
    "os.chdir('c://util')"
   ]
  },
  {
   "cell_type": "code",
   "execution_count": 4,
   "id": "70df3ac4",
   "metadata": {},
   "outputs": [
    {
     "name": "stdout",
     "output_type": "stream",
     "text": [
      "c:\\util\n"
     ]
    }
   ],
   "source": [
    "current_working_directory = os.getcwd()\n",
    "print(current_working_directory)"
   ]
  },
  {
   "cell_type": "markdown",
   "id": "d594599d",
   "metadata": {},
   "source": [
    "# Archivos"
   ]
  },
  {
   "cell_type": "markdown",
   "id": "ca156fb8",
   "metadata": {},
   "source": [
    "### Apertura de archivos"
   ]
  },
  {
   "attachments": {
    "image.png": {
     "image/png": "[encoded data removed]"
    }
   },
   "cell_type": "markdown",
   "id": "c8d187a0-a48f-477b-9d31-f0e95f8dfda6",
   "metadata": {
    "jp-MarkdownHeadingCollapsed": true
   },
   "source": [
    "\n",
    "\n",
    "En Python, un archivo físico debe asignarse a un objeto de archivo incorporado con la ayuda de la función **open()**\n",
    "- Sintaxis general **file_object = open(file name[, access mode])**\n",
    "\n",
    "donde los modos de acceso pueden ser\n",
    "\n",
    "\n",
    "\n",
    "![image.png](attachment:image.png)"
   ]
  },
  {
   "cell_type": "markdown",
   "id": "eed9af5c",
   "metadata": {},
   "source": [
    "- El modo de acceso escritura  \"w\" siempre tratará el archivo como un archivo nuevo. \n",
    "- Así que  un archivo existente abierto con el modo  escritura \"w\" perderá su contenido anterior. \n",
    "- Para agregar más datos al archivo existente, se debe utilizar  el modo  append o lectura/escritura\n"
   ]
  },
  {
   "cell_type": "code",
   "execution_count": 5,
   "id": "3690e3e5",
   "metadata": {},
   "outputs": [],
   "source": [
    "# Ejemplo\n",
    "# sino existe lo crea, dado el parámetro 'w'\n",
    "archivo = \"mi_archivo.txt\" \n",
    "f=open(archivo,\"w\")"
   ]
  },
  {
   "cell_type": "markdown",
   "id": "1735dd41",
   "metadata": {},
   "source": [
    "### Cierre de Archivos"
   ]
  },
  {
   "cell_type": "markdown",
   "id": "fae7fe07",
   "metadata": {},
   "source": [
    "Con el fin de cerra correctamente un archivos , Python hace uso del método **close()**\n",
    "\n",
    "Sintaxis general **file_object.close()**\n",
    "\n",
    "\n"
   ]
  },
  {
   "cell_type": "code",
   "execution_count": 6,
   "id": "84cb4028",
   "metadata": {},
   "outputs": [],
   "source": [
    "#Ejemplo\n",
    "# cierra el archivo\n",
    "f.close()"
   ]
  },
  {
   "cell_type": "code",
   "execution_count": 11,
   "id": "b7efd6d5",
   "metadata": {},
   "outputs": [],
   "source": [
    "# usando  with statement\n",
    "# recuerde que aqui esta implicito el close()\n",
    "with open(current_working_directory + \"\\\\\" + archivo, 'w') as file:\n",
    "    file.write(f'Este es un ejemplo de escritura en el  archivo:\\n{archivo}\\n')"
   ]
  },
  {
   "cell_type": "markdown",
   "id": "90958cd7",
   "metadata": {},
   "source": [
    "## Escritura de Archivo "
   ]
  },
  {
   "cell_type": "code",
   "execution_count": 21,
   "id": "6016ffae",
   "metadata": {},
   "outputs": [],
   "source": [
    "linea = \"Hola.\\n\"\n",
    "linea1=[\"Este es un ejemplo de escritura en el  archivo:\\n\",archivo+\"\\n\"]\n",
    "linea2=[\"Hola nuevamente.\\n\", \"Esta es otra línea insertada en el archivo:\\n\", archivo]\n",
    "\n",
    "with open(current_working_directory + \"\\\\\" + archivo, 'w') as f:\n",
    "    # write escribe un string en mi archivo\n",
    "    f.write(linea)\n",
    "    # writelines salva una lista de objetos en el archivo \n",
    "    f.writelines(linea1)\n",
    "    f.writelines(linea2)\n",
    "\n"
   ]
  },
  {
   "cell_type": "markdown",
   "id": "d8166b73",
   "metadata": {},
   "source": [
    "## Lectura del archivo"
   ]
  },
  {
   "cell_type": "code",
   "execution_count": 18,
   "id": "1bce91cc",
   "metadata": {},
   "outputs": [
    {
     "name": "stdout",
     "output_type": "stream",
     "text": [
      "Hola.\n",
      "Este es un ejemplo de escritura en el  archivo:\n",
      "mi_archivo.txt\n",
      "Hola nuevamente.\n",
      "Esta es otra línea insertada en el archivo:\n",
      "mi_archivo.txt\n"
     ]
    }
   ],
   "source": [
    "with open(current_working_directory + \"\\\\\" + archivo, 'r') as f:\n",
    "    print(f.read())\n",
    "    "
   ]
  },
  {
   "cell_type": "code",
   "execution_count": 19,
   "id": "dc863bb6",
   "metadata": {},
   "outputs": [
    {
     "ename": "UnsupportedOperation",
     "evalue": "not readable",
     "output_type": "error",
     "traceback": [
      "\u001b[1;31m---------------------------------------------------------------------------\u001b[0m",
      "\u001b[1;31mUnsupportedOperation\u001b[0m                      Traceback (most recent call last)",
      "Cell \u001b[1;32mIn[19], line 3\u001b[0m\n\u001b[0;32m      1\u001b[0m \u001b[38;5;66;03m# Porque falla ?\u001b[39;00m\n\u001b[0;32m      2\u001b[0m \u001b[38;5;28;01mwith\u001b[39;00m \u001b[38;5;28mopen\u001b[39m(current_working_directory \u001b[38;5;241m+\u001b[39m \u001b[38;5;124m\"\u001b[39m\u001b[38;5;130;01m\\\\\u001b[39;00m\u001b[38;5;124m\"\u001b[39m \u001b[38;5;241m+\u001b[39m archivo, \u001b[38;5;124m'\u001b[39m\u001b[38;5;124mw\u001b[39m\u001b[38;5;124m'\u001b[39m) \u001b[38;5;28;01mas\u001b[39;00m f:\n\u001b[1;32m----> 3\u001b[0m     \u001b[38;5;28mprint\u001b[39m(f\u001b[38;5;241m.\u001b[39mread())\n",
      "\u001b[1;31mUnsupportedOperation\u001b[0m: not readable"
     ]
    }
   ],
   "source": [
    "# Porque falla ?\n",
    "with open(current_working_directory + \"\\\\\" + archivo, 'w') as f:\n",
    "    print(f.read())"
   ]
  },
  {
   "cell_type": "code",
   "execution_count": 22,
   "id": "13942f6b",
   "metadata": {},
   "outputs": [
    {
     "name": "stdout",
     "output_type": "stream",
     "text": [
      "Hola.\n",
      "\n",
      "Este es un ejemplo de escritura en el  archivo:\n",
      "\n",
      "mi_archivo.txt\n",
      "\n",
      "Hola nuevamente.\n",
      "\n",
      "Esta es otra línea insertada en el archivo:\n",
      "\n",
      "mi_archivo.txt\n"
     ]
    }
   ],
   "source": [
    "#---------------lectura de archivos con iteración WHILE\n",
    "with open(current_working_directory + \"\\\\\" + archivo, 'r') as f:\n",
    "    line=f.readline()\n",
    "    while line!='':\n",
    "        print(line)\n",
    "        line=f.readline()\n"
   ]
  },
  {
   "cell_type": "code",
   "execution_count": 23,
   "id": "d99fd482",
   "metadata": {},
   "outputs": [
    {
     "name": "stdout",
     "output_type": "stream",
     "text": [
      "Hola.\n",
      "\n",
      "Este es un ejemplo de escritura en el  archivo:\n",
      "\n",
      "mi_archivo.txt\n",
      "\n",
      "Hola nuevamente.\n",
      "\n",
      "Esta es otra línea insertada en el archivo:\n",
      "\n",
      "mi_archivo.txt\n"
     ]
    }
   ],
   "source": [
    "#---------------lectura de archivos con iteración FOR\n",
    "with open(current_working_directory + \"\\\\\" + archivo, 'r') as f:\n",
    "    for linea in f:\n",
    "        print(linea)\n",
    "    \n"
   ]
  },
  {
   "cell_type": "code",
   "execution_count": 24,
   "id": "93dd595c",
   "metadata": {},
   "outputs": [
    {
     "name": "stdout",
     "output_type": "stream",
     "text": [
      "Hola.\n",
      "\n",
      "Este es un ejemplo de escritura en el  archivo:\n",
      "\n",
      "mi_archivo.txt\n",
      "\n",
      "Hola nuevamente.\n",
      "\n",
      "Esta es otra línea insertada en el archivo:\n",
      "\n",
      "mi_archivo.txt\n"
     ]
    }
   ],
   "source": [
    "#---------------- iterando  en un archivo usando NEXT \n",
    "with open(current_working_directory + \"\\\\\" + archivo, 'r') as f:\n",
    "    while True:\n",
    "            try:\n",
    "                line=next(f)\n",
    "                print (line)\n",
    "            except StopIteration: # esta excepción indica que se ha llegado al final de la iteración. \n",
    "                break\n"
   ]
  },
  {
   "cell_type": "markdown",
   "id": "725b2676",
   "metadata": {},
   "source": [
    "## Append mode"
   ]
  },
  {
   "cell_type": "code",
   "execution_count": 26,
   "id": "fb97db97",
   "metadata": {},
   "outputs": [],
   "source": [
    "\n",
    "with open(current_working_directory + \"\\\\\" + archivo, 'a+') as f:\n",
    "    f.write(\"\\nHola nuevamente, acabo de incluir una línea nueva al final\")\n",
    "    line=f.readline()\n"
   ]
  },
  {
   "cell_type": "code",
   "execution_count": 28,
   "id": "d34a22e7",
   "metadata": {},
   "outputs": [
    {
     "name": "stdout",
     "output_type": "stream",
     "text": [
      "Hola.\n",
      "Este es un ejemplo de escritura en el  archivo:\n",
      "mi_archivo.txt\n",
      "Hola nuevamente.\n",
      "Esta es otra línea insertada en el archivo:\n",
      "mi_archivo.txt\n",
      "Hola nuevamente, acabo de incluir una línea nueva al final\n"
     ]
    }
   ],
   "source": [
    "# observamos el nuevo contenido del archivo\n",
    "with open(current_working_directory + \"\\\\\" + archivo, 'r') as f:\n",
    "    print(f.read())\n"
   ]
  },
  {
   "cell_type": "markdown",
   "id": "70d87717",
   "metadata": {},
   "source": [
    "## Seek en archivo\n",
    "\n",
    "- En Python, la función seek() se usa para cambiar la posición del controlador de archivo a una posición específica dada. El identificador de archivo es como un cursor, que define desde dónde se deben leer o escribir los datos en el archivo. \n",
    "\n",
    "- Sintaxis: f.seek(offset, from_what), donde f es el puntero del archivo\n",
    "- Parámetros:  \n",
    "    - Offset: Número de posiciones para avanzar \n",
    "    - from_what: Define el punto de referencia.\n",
    "    - Devuelve: Devuelve la nueva posición absoluta.\n",
    "\n",
    "El punto de referencia se selecciona mediante el argumento from_what . Acepta tres valores: \n",
    " \n",
    "\n",
    "- 0: establece el punto de referencia al principio del archivo. Es el default\n",
    " \n",
    "- 1: establece el punto de referencia en la posición actual del archivo \n",
    " \n",
    "- 2: establece el punto de referencia al final del archivo "
   ]
  },
  {
   "cell_type": "code",
   "execution_count": 30,
   "id": "5b809285",
   "metadata": {},
   "outputs": [
    {
     "name": "stdout",
     "output_type": "stream",
     "text": [
      "\n",
      "\n",
      "Este es un ejemplo de escritura en el  archivo:\n",
      "\n",
      "mi_archivo.txt\n",
      "\n",
      "Hola nuevamente.\n",
      "\n",
      "Esta es otra línea insertada en el archivo:\n",
      "\n",
      "mi_archivo.txt\n",
      "\n",
      "Hola nuevamente, acabo de incluir una línea nueva al final\n"
     ]
    }
   ],
   "source": [
    "\n",
    "with open(current_working_directory + \"\\\\\" + archivo, 'r+') as f:\n",
    "    #nos posicinamos en la posición 6 del inicio del archivo\n",
    "    f.seek(6,0)\n",
    "    # observe que usamos readlines, por lo cual obtuvimos uns lista con todas las líneas del archivo\n",
    "    lines=f.readlines()\n",
    "    for line in lines:\n",
    "        print(line)\n"
   ]
  },
  {
   "cell_type": "markdown",
   "id": "89fd9153",
   "metadata": {},
   "source": [
    "## Lectura y escritura de archivos binarios"
   ]
  },
  {
   "cell_type": "code",
   "execution_count": 35,
   "id": "7b78e029",
   "metadata": {},
   "outputs": [],
   "source": [
    "\n",
    "with open(current_working_directory + \"\\\\\" + \"binfile.bin\", 'wb') as f:\n",
    "    num=[5, 10, 15, 20, 25]\n",
    "    arr=bytearray(num)\n",
    "    f.write(arr)\n",
    "# abra el archivo y observe el formato\n",
    "\n"
   ]
  },
  {
   "cell_type": "code",
   "execution_count": 36,
   "id": "0c5ed575",
   "metadata": {},
   "outputs": [
    {
     "name": "stdout",
     "output_type": "stream",
     "text": [
      "[5, 10, 15, 20, 25]\n"
     ]
    }
   ],
   "source": [
    "with open(current_working_directory + \"\\\\\" + \"binfile.bin\", 'rb') as f:\n",
    "    num=list(f.read())\n",
    "    print (num)\n"
   ]
  },
  {
   "cell_type": "markdown",
   "id": "40993979",
   "metadata": {},
   "source": [
    "### Ejemplo "
   ]
  },
  {
   "cell_type": "markdown",
   "id": "f6cd2939",
   "metadata": {},
   "source": []
  },
  {
   "cell_type": "code",
   "execution_count": 38,
   "id": "572cc071",
   "metadata": {},
   "outputs": [
    {
     "name": "stdout",
     "output_type": "stream",
     "text": [
      "Esto es un mensaje\n"
     ]
    }
   ],
   "source": [
    "# Escribe un mensaje en un archivo\n",
    "def escribe_archivo(mensaje):\n",
    "    with open('archivo_comunicacion.txt', 'w') as archivo:\n",
    "        archivo.write(mensaje)\n",
    "\n",
    "# Leer el mensaje del fichero        \n",
    "def lee_archivo():\n",
    "    mensaje = \"\"\n",
    "    with open('archivo_comunicacion.txt', 'r') as archivo:\n",
    "        mensaje = archivo.read()\n",
    "    # Borra el contenido del fichero para dejarlo vacío\n",
    "    f = open('archivo_comunicacion.txt', 'w')\n",
    "    f.close()\n",
    "    return mensaje\n",
    "\n",
    "escribe_archivo(\"Esto es un mensaje\")\n",
    "print(lee_archivo())"
   ]
  },
  {
   "cell_type": "markdown",
   "id": "5a4740b2",
   "metadata": {},
   "source": [
    "## Renombrar y borrar Archivos"
   ]
  },
  {
   "cell_type": "code",
   "execution_count": 39,
   "id": "7f870d6c",
   "metadata": {},
   "outputs": [],
   "source": [
    "import os\n",
    "archivo_ren = 'mi_archivo_renombrado.txt'\n",
    "\n",
    "if os.path.isfile(archivo):\n",
    "    os.rename(archivo, archivo_ren) # renombrado\n",
    "else:\n",
    "    print('¡El archivo', archivo, 'no existe!')"
   ]
  },
  {
   "cell_type": "code",
   "execution_count": 41,
   "id": "8baa5302",
   "metadata": {},
   "outputs": [
    {
     "name": "stdout",
     "output_type": "stream",
     "text": [
      "¡El archivo mi_archivo.txt no existe!\n"
     ]
    }
   ],
   "source": [
    "if os.path.isfile(archivo_ren):\n",
    "    os.remove(archivo_ren) # borrado\n",
    "else:\n",
    "    print('¡El archivo', archivo, 'no existe!')"
   ]
  },
  {
   "cell_type": "markdown",
   "id": "a345d80f",
   "metadata": {},
   "source": [
    "## CSV Files"
   ]
  },
  {
   "cell_type": "code",
   "execution_count": 42,
   "id": "05b6a5bd",
   "metadata": {},
   "outputs": [],
   "source": [
    "import csv"
   ]
  },
  {
   "cell_type": "code",
   "execution_count": 45,
   "id": "f9ecb6f9",
   "metadata": {},
   "outputs": [
    {
     "name": "stdout",
     "output_type": "stream",
     "text": [
      "<class 'list'>\n",
      "['Ranking', 'Producto', 'NoProducto', 'Marca', 'Rentabilidad Prevista']\n",
      "<class 'list'>\n",
      "['1', 'PC', '171', 'Dell', '$204.157 ']\n",
      "<class 'list'>\n",
      "['2', 'Laptop', '173', 'Apple', '$140.077 ']\n",
      "<class 'list'>\n",
      "['3', 'PC', '172', 'Dell', '$134.927 ']\n",
      "<class 'list'>\n",
      "['4', 'Laptop', '176', 'Razer', '$122.662 ']\n",
      "<class 'list'>\n",
      "['5', 'Tablet', '186', 'Apple', '$118.297 ']\n",
      "<class 'list'>\n",
      "['6', 'Tablet', '187', 'Amazon', '$71.774 ']\n",
      "<class 'list'>\n",
      "['7', 'Netbook', '180', 'Acer', '$53.398 ']\n",
      "<class 'list'>\n",
      "['8', 'Laptop', '175', 'Toshiba', '$47.982 ']\n",
      "<class 'list'>\n",
      "['9', 'Game Console', '199', 'Sony', '$42.314 ']\n",
      "<class 'list'>\n",
      "['10', 'Smartphone', '193', 'Motorola', '$23.880 ']\n",
      "<class 'list'>\n",
      "['11', 'Netbook', '181', 'Asus', '$16.130 ']\n",
      "<class 'list'>\n",
      "['12', 'Smartphone', '196', 'Motorola', '$10.823 ']\n",
      "<class 'list'>\n",
      "['13', 'Netbook', '178', 'HP', '$8.867 ']\n",
      "<class 'list'>\n",
      "['14', 'Netbook', '183', 'Samsung', '$8.630 ']\n",
      "<class 'list'>\n",
      "['15', 'Smartphone', '194', 'Samsung', '$8.161 ']\n",
      "<class 'list'>\n",
      "['16', 'Smartphone', '195', 'HTC', '$6.214 ']\n",
      "<class 'list'>\n",
      "['17', 'Monitor', '201', 'Asus', '$1.867 ']\n",
      "<class 'list'>\n",
      "['18', 'Impresora', '999', 'Epson', '$12.900']\n",
      "<class 'list'>\n",
      "['19', 'Monitor', '256', 'AOC', '$10.500']\n",
      "<class 'list'>\n",
      "['18', 'Impresora', '999', 'Epson', '$12.900']\n",
      "<class 'list'>\n",
      "['19', 'Monitor', '256', 'AOC', '$10.500']\n",
      "<class 'list'>\n",
      "['18', 'Impresora', '999', 'Epson', '$12.900']\n",
      "<class 'list'>\n",
      "['19', 'Monitor', '256', 'AOC', '$10.500']\n",
      "<class 'list'>\n",
      "['18', 'Impresora', '999', 'Epson', '$12.900']\n",
      "<class 'list'>\n",
      "['19', 'Monitor', '256', 'AOC', '$10.500']\n",
      "<class 'list'>\n",
      "['18', 'Impresora', '999', 'Epson', '$12.900']\n",
      "<class 'list'>\n",
      "['19', 'Monitor', '256', 'AOC', '$10.500']\n",
      "<class 'list'>\n",
      "['20', 'Monitor', '500', 'Dell', '$500']\n",
      "<class 'list'>\n",
      "['21', 'Keyboard', '2638', 'Ryser', '$400']\n",
      "<class 'list'>\n",
      "['22', 'Impresora', '999', 'Epson', '$12.900']\n",
      "<class 'list'>\n",
      "['23', 'Monitor', '256', 'AOC', '$10.500']\n"
     ]
    }
   ],
   "source": [
    "# apertura de un archivo csv existente\n",
    "with open('productos.csv') as csv_file:\n",
    "    csv_reader = csv.reader(csv_file, delimiter=',')\n",
    "    for row in csv_reader:\n",
    "        print(type(row)) # obtenemos el tipo de la columna\n",
    "        print(row) "
   ]
  },
  {
   "cell_type": "code",
   "execution_count": 47,
   "id": "b0222e6f",
   "metadata": {},
   "outputs": [],
   "source": [
    "# append en un archivo csv existente por medio de writerow\n",
    "with open('productos.csv', mode='a+') as csv_file:\n",
    "    csv_writer = csv.writer(csv_file, delimiter=',',lineterminator='\\n')\n",
    "    csv_writer.writerow(['18','Impresora','999' ,'Epson','$12.900'])\n",
    "    csv_writer.writerow(['19', 'Monitor','256','AOC','$10.500'])"
   ]
  },
  {
   "cell_type": "code",
   "execution_count": 48,
   "id": "ce822ba5",
   "metadata": {},
   "outputs": [
    {
     "name": "stdout",
     "output_type": "stream",
     "text": [
      "['Ranking', 'Producto', 'NoProducto', 'Marca', 'Rentabilidad Prevista']\n",
      "['1', 'PC', '171', 'Dell', '$204.157 ']\n",
      "['2', 'Laptop', '173', 'Apple', '$140.077 ']\n",
      "['3', 'PC', '172', 'Dell', '$134.927 ']\n",
      "['4', 'Laptop', '176', 'Razer', '$122.662 ']\n",
      "['5', 'Tablet', '186', 'Apple', '$118.297 ']\n",
      "['6', 'Tablet', '187', 'Amazon', '$71.774 ']\n",
      "['7', 'Netbook', '180', 'Acer', '$53.398 ']\n",
      "['8', 'Laptop', '175', 'Toshiba', '$47.982 ']\n",
      "['9', 'Game Console', '199', 'Sony', '$42.314 ']\n",
      "['10', 'Smartphone', '193', 'Motorola', '$23.880 ']\n",
      "['11', 'Netbook', '181', 'Asus', '$16.130 ']\n",
      "['12', 'Smartphone', '196', 'Motorola', '$10.823 ']\n",
      "['13', 'Netbook', '178', 'HP', '$8.867 ']\n",
      "['14', 'Netbook', '183', 'Samsung', '$8.630 ']\n",
      "['15', 'Smartphone', '194', 'Samsung', '$8.161 ']\n",
      "['16', 'Smartphone', '195', 'HTC', '$6.214 ']\n",
      "['17', 'Monitor', '201', 'Asus', '$1.867 ']\n",
      "['18', 'Impresora', '999', 'Epson', '$12.900']\n",
      "['19', 'Monitor', '256', 'AOC', '$10.500']\n",
      "['18', 'Impresora', '999', 'Epson', '$12.900']\n",
      "['19', 'Monitor', '256', 'AOC', '$10.500']\n",
      "['18', 'Impresora', '999', 'Epson', '$12.900']\n",
      "['19', 'Monitor', '256', 'AOC', '$10.500']\n",
      "['18', 'Impresora', '999', 'Epson', '$12.900']\n",
      "['19', 'Monitor', '256', 'AOC', '$10.500']\n",
      "['18', 'Impresora', '999', 'Epson', '$12.900']\n",
      "['19', 'Monitor', '256', 'AOC', '$10.500']\n",
      "['20', 'Monitor', '500', 'Dell', '$500']\n",
      "['21', 'Keyboard', '2638', 'Ryser', '$400']\n",
      "['22', 'Impresora', '999', 'Epson', '$12.900']\n",
      "['23', 'Monitor', '256', 'AOC', '$10.500']\n",
      "['18', 'Impresora', '999', 'Epson', '$12.900']\n",
      "['19', 'Monitor', '256', 'AOC', '$10.500']\n",
      "['18', 'Impresora', '999', 'Epson', '$12.900']\n",
      "['19', 'Monitor', '256', 'AOC', '$10.500']\n"
     ]
    }
   ],
   "source": [
    "with open('productos.csv') as csv_file:\n",
    "    csv_reader = csv.reader(csv_file, delimiter=',')\n",
    "    for row in csv_reader:\n",
    "        print(row)"
   ]
  },
  {
   "cell_type": "markdown",
   "id": "ee83f929",
   "metadata": {},
   "source": [
    "## Lectura de archivos en Internet\n",
    "\n",
    "- utilizando urlopen()"
   ]
  },
  {
   "cell_type": "code",
   "execution_count": 1,
   "id": "16a43357",
   "metadata": {},
   "outputs": [],
   "source": [
    "from urllib import request\n",
    "from urllib.error import URLError"
   ]
  },
  {
   "cell_type": "code",
   "execution_count": 2,
   "id": "0e170f09",
   "metadata": {},
   "outputs": [],
   "source": [
    "url = 'https://docs.python.org/3/library/urllib.html'\n",
    "f = request.urlopen(url)"
   ]
  },
  {
   "cell_type": "code",
   "execution_count": null,
   "id": "7fb4d4d0",
   "metadata": {},
   "outputs": [],
   "source": [
    "line  = f.readline().decode('utf-8')\n",
    "while(line != ''):\n",
    "    print(line)\n",
    "    line = f.readline().decode('utf-8')"
   ]
  },
  {
   "cell_type": "code",
   "execution_count": 9,
   "id": "91aa60fa",
   "metadata": {},
   "outputs": [],
   "source": [
    "# Función ejemplo \n",
    "def get_name(url, name='Juego de tronos'):\n",
    "    try:\n",
    "        f = request.urlopen(url)\n",
    "    except URLError:\n",
    "        return('¡La url ' + url + ' no existe!')\n",
    "    else:\n",
    "        line  = f.readline().decode('utf-8')\n",
    "        while(line != ''):\n",
    "            if  name in line:\n",
    "                return line\n",
    "            line = f.readline().decode('utf-8')\n",
    "    #return data"
   ]
  },
  {
   "cell_type": "code",
   "execution_count": 11,
   "id": "32e70e87",
   "metadata": {},
   "outputs": [
    {
     "data": {
      "text/plain": [
       "'<p><a href=\"/wiki/Eddard_Stark\" title=\"Eddard Stark\">Eddard Stark</a>, como Señor de <a href=\"/wiki/Poniente_(Canci%C3%B3n_de_Hielo_y_Fuego)\" class=\"mw-redirect\" title=\"Poniente (Canción de Hielo y Fuego)\">Invernalia</a>, en nombre de Robert I Baratheon, rey de los Siete Reinos, debe condenar y ejecutar a un desertor de la <a href=\"/wiki/Guardia_de_la_Noche\" title=\"Guardia de la Noche\">Guardia de la Noche</a>. Algunos de sus hijos se encuentran entre los testigos. En el viaje de vuelta a Invernalia (Winterfell), los hijos de Eddard descubren cinco cachorros de lobo huargo al lado de su madre muerta, uno para cada uno de sus hijos legítimos y otro cachorro totalmente blanco, que se queda su bastardo Jon Nieves  (el lobo huargo es el símbolo de la Casa Stark, que aparece en la heráldica de la familia Stark). Después de la muerte de Lord <a href=\"/wiki/Casa_Arryn\" title=\"Casa Arryn\">Jon Arryn</a>, anterior \"Mano del Rey\" (el más alto asesor del rey), el rey <a href=\"/wiki/Casa_Baratheon\" title=\"Casa Baratheon\">Robert Baratheon</a> visita a Eddard en Invernalia. Como confía en él como un viejo amigo y como aliado en la lucha por el trono, el rey Robert le pide a Eddard convertirse en la nueva Mano del Rey. Eddard acepta, en contra de sus instintos, y al mismo tiempo promete a su esposa, Lady <a href=\"/wiki/Casa_Stark\" title=\"Casa Stark\">Catelyn Stark</a> que va a investigar la muerte de la Mano anterior, Jon Arryn, que había sido esposo de su hermana Lysa Tully.\\n'"
      ]
     },
     "execution_count": 11,
     "metadata": {},
     "output_type": "execute_result"
    }
   ],
   "source": [
    "# datasource con informacion del PIB de los paises de la UE\n",
    "#url_ = 'https://ec.europa.eu/eurostat/estat-navtree-portlet-prod/BulkDownloadListing?file=data/sdg_08_10.tsv.gz&unzip=true'\n",
    "url_ = 'https://es.wikipedia.org/wiki/Juego_de_tronos'\n",
    "get_name(url_, \"Stark\")"
   ]
  },
  {
   "cell_type": "markdown",
   "id": "87fcfbcc",
   "metadata": {},
   "source": [
    "## Actividad Asincrónica"
   ]
  },
  {
   "cell_type": "markdown",
   "id": "cd2d7c3d",
   "metadata": {},
   "source": [
    "1. Por medio de la instrucciones  y librería correspondientes:\n",
    "    - Averigue el directorio actual de trabajo\n",
    "    - Cambie el directorio de trabajo a el directorio c:\\temp (sino existe debe crearlo) "
   ]
  },
  {
   "cell_type": "code",
   "execution_count": null,
   "id": "afa800b9",
   "metadata": {},
   "outputs": [],
   "source": []
  },
  {
   "cell_type": "markdown",
   "id": "c106c16a",
   "metadata": {},
   "source": [
    "2. Escribir el código necesario  que pida un número entero entre 1 y 10 y guarde en un archivo la tabla de multiplicar de ese número, tomando en consideración \n",
    "    - El nombre del archivo debe ser tabla-n.txt   donde n es el número introducido\n",
    "    - Si el archivo ya existe debe desplegarse un execepción indicando que el archivo ya existe\n",
    "    - Cada línea del archivo debe mostrar una sola operación y resulatdo de multiplicación\n",
    "    - El archivo debe guardarse en el directorio actual de trabajo "
   ]
  },
  {
   "cell_type": "code",
   "execution_count": null,
   "id": "714a777f",
   "metadata": {},
   "outputs": [],
   "source": []
  },
  {
   "cell_type": "markdown",
   "id": "8ae00071",
   "metadata": {},
   "source": [
    "3. Escriba el código  necesario que acceda a algún  archivo de tabla de multiplicar creado anteriormente  y muestre por pantalla el número de palabras que contiene.\n",
    "    - Si el nombre archivo no existe debe desplegarse un execepción indicando que el archivo no  existe"
   ]
  },
  {
   "cell_type": "code",
   "execution_count": null,
   "id": "3e11b5f1",
   "metadata": {},
   "outputs": [],
   "source": []
  },
  {
   "cell_type": "markdown",
   "id": "910e39e0",
   "metadata": {},
   "source": [
    "4. Escriba el código necesario  que pida un número entero entre 1 y 10, lea el archivo  tabla-n.txt con la tabla de multiplicar de ese número, donde n es el número introducido, y  muestre por pantalla su contenido. \n",
    "    - Si el archivo  no existe debe mostrar un mensaje de error"
   ]
  },
  {
   "cell_type": "code",
   "execution_count": null,
   "id": "bb977643",
   "metadata": {},
   "outputs": [],
   "source": []
  },
  {
   "cell_type": "markdown",
   "id": "42345939",
   "metadata": {},
   "source": [
    "5. Escribir el código necesario  que pida dos números n y m entre 1 y 10, lea el archivo  tabla-n.txt con la tabla de multiplicar de ese número n, y muestre por pantalla la línea m del archivo.\n",
    "    -  Si el archivo  no existe debe mostrar debe mostrar una excepción por pantalla informando de ello.\n",
    "    -  Si el número de línea no existe debe mostrar una excepción por pantalla informando de ello."
   ]
  },
  {
   "cell_type": "code",
   "execution_count": null,
   "id": "f90e3081",
   "metadata": {},
   "outputs": [],
   "source": []
  }
 ],
 "metadata": {
  "kernelspec": {
   "display_name": "Python 3 (ipykernel)",
   "language": "python",
   "name": "python3"
  },
  "language_info": {
   "codemirror_mode": {
    "name": "ipython",
    "version": 3
   },
   "file_extension": ".py",
   "mimetype": "text/x-python",
   "name": "python",
   "nbconvert_exporter": "python",
   "pygments_lexer": "ipython3",
   "version": "3.12.4"
  }
 },
 "nbformat": 4,
 "nbformat_minor": 5
}
