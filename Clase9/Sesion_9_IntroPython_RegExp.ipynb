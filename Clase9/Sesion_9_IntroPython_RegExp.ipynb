{
  "cells": [
    {
      "cell_type": "code",
      "execution_count": 3,
      "metadata": {
        "colab": {
          "base_uri": "https://localhost:8080/"
        },
        "id": "ZTRz-0Lkus2H",
        "outputId": "bf58ff90-0331-4d91-90e6-7a6e465a73a7"
      },
      "outputs": [
        {
          "name": "stdout",
          "output_type": "stream",
          "text": [
            "No hay coincidencia\n"
          ]
        }
      ],
      "source": [
        "import re\n",
        "\n",
        "#Revisa si el string inicia con  \"Pepe\" y termina con  \"pico\":\n",
        "\n",
        "txt = \"Pepe pecas pica papas con un pico\"\n",
        "x = re.search(\"^Pepe.*pica$\", txt)\n",
        "\n",
        "if x:\n",
        "  print(\"YES! hay coincidencia\")\n",
        "else:\n",
        "  print(\"No hay coincidencia\")"
      ]
    },
    {
      "cell_type": "code",
      "execution_count": null,
      "metadata": {
        "id": "eoOJ9gPeus2Q",
        "outputId": "8a748132-5a77-4885-eabe-7bde7600189e"
      },
      "outputs": [
        {
          "name": "stdout",
          "output_type": "stream",
          "text": [
            "['co', 'co']\n"
          ]
        }
      ],
      "source": [
        "x = re.findall(\"co\", txt)\n",
        "print(x)"
      ]
    },
    {
      "cell_type": "code",
      "execution_count": null,
      "metadata": {
        "id": "_NVegsZhus2U",
        "outputId": "211be8fb-3e48-4f3b-910f-af429f8000a3"
      },
      "outputs": [
        {
          "name": "stdout",
          "output_type": "stream",
          "text": [
            "[]\n"
          ]
        }
      ],
      "source": [
        "x = re.findall(\"pu\", txt)\n",
        "print(x)"
      ]
    },
    {
      "cell_type": "code",
      "execution_count": null,
      "metadata": {
        "id": "1sTd_urQus2W",
        "outputId": "5c31bb3d-525b-4dee-c42e-827c6afba408"
      },
      "outputs": [
        {
          "name": "stdout",
          "output_type": "stream",
          "text": [
            "El espacio en blanco esta en  4\n"
          ]
        }
      ],
      "source": [
        "x = re.search(\"\\s\", txt)\n",
        "print(\"El espacio en blanco esta en \", x.start())"
      ]
    },
    {
      "cell_type": "code",
      "execution_count": null,
      "metadata": {
        "id": "EG_4ZF05us2Y",
        "outputId": "2860aa09-ea03-4608-bec0-079d20d49d0a"
      },
      "outputs": [
        {
          "name": "stdout",
          "output_type": "stream",
          "text": [
            "<re.Match object; span=(4, 5), match=' '>\n"
          ]
        }
      ],
      "source": [
        "print(x)"
      ]
    },
    {
      "cell_type": "code",
      "execution_count": null,
      "metadata": {
        "id": "OosXUCAlus2a",
        "outputId": "337a6db7-b9e1-4d1d-e54d-c510ae56f65e"
      },
      "outputs": [
        {
          "name": "stdout",
          "output_type": "stream",
          "text": [
            "None\n"
          ]
        }
      ],
      "source": [
        "x = re.search(\"Carlos\", txt)\n",
        "print(x)"
      ]
    },
    {
      "cell_type": "code",
      "execution_count": null,
      "metadata": {
        "id": "rMH-xhQGus2c",
        "outputId": "bcccbe40-b47e-4466-a6b7-d61cbb9c4586"
      },
      "outputs": [
        {
          "name": "stdout",
          "output_type": "stream",
          "text": [
            "['Pepe', 'pecas', 'pica', 'papas', 'con', 'un', 'pico']\n"
          ]
        }
      ],
      "source": [
        "x = re.split(\"\\s\",txt)\n",
        "print(x)"
      ]
    },
    {
      "cell_type": "code",
      "execution_count": null,
      "metadata": {
        "id": "AtFdwvJ4us2e",
        "outputId": "b4314fb0-562a-4191-fe69-0dc5d056bef4"
      },
      "outputs": [
        {
          "name": "stdout",
          "output_type": "stream",
          "text": [
            "['Pepe', 'pecas', 'pica papas con un pico']\n"
          ]
        }
      ],
      "source": [
        "x = re.split(\"\\s\",txt , 2)\n",
        "print(x)"
      ]
    },
    {
      "cell_type": "code",
      "execution_count": null,
      "metadata": {
        "id": "NUuBimLius2g",
        "outputId": "8d0ed1ae-5990-4fd8-9a13-fc62ec31c22f"
      },
      "outputs": [
        {
          "name": "stdout",
          "output_type": "stream",
          "text": [
            "Pepe*pecas*pica*papas*con*un*pico\n"
          ]
        }
      ],
      "source": [
        "x = re.sub(\"\\s\",\"*\",txt)\n",
        "print(x)"
      ]
    },
    {
      "cell_type": "code",
      "execution_count": null,
      "metadata": {
        "id": "SkwVi8o_us2i",
        "outputId": "23a822a1-a348-4be6-babe-1023cd2780b4"
      },
      "outputs": [
        {
          "name": "stdout",
          "output_type": "stream",
          "text": [
            "Pepe|pecas|pica papas con un pico\n"
          ]
        }
      ],
      "source": [
        "x = re.sub(\"\\s\",\"|\",txt,2)\n",
        "print(x)"
      ]
    },
    {
      "cell_type": "code",
      "execution_count": null,
      "metadata": {
        "id": "3WyPpwRyus2k",
        "outputId": "879e2b2b-d1da-460d-ac40-15fbdb100fcc"
      },
      "outputs": [
        {
          "name": "stdout",
          "output_type": "stream",
          "text": [
            "<re.Match object; span=(0, 5), match='CPepe'>\n"
          ]
        }
      ],
      "source": [
        "txt2 = \"CPepe pecas pica papas Con un pico\"\n",
        "x = re.search(r\"\\bC\\w+\",txt2)\n",
        "print(x)"
      ]
    },
    {
      "cell_type": "code",
      "execution_count": null,
      "metadata": {
        "id": "IkSQJA1Kus2m",
        "outputId": "2fc30193-fd57-4050-c0a3-0d52bdfd676c"
      },
      "outputs": [
        {
          "name": "stdout",
          "output_type": "stream",
          "text": [
            "<re.Match object; span=(0, 5), match='CPepe'>\n"
          ]
        }
      ],
      "source": [
        "exp = r\"\\bC\\w+\"\n",
        "x2 = re.match(exp,txt2)\n",
        "print(x2)"
      ]
    },
    {
      "cell_type": "code",
      "execution_count": null,
      "metadata": {
        "id": "ILxdme2Xus2n",
        "outputId": "d656123b-52b6-40fe-d172-10c5992fa37e"
      },
      "outputs": [
        {
          "name": "stdout",
          "output_type": "stream",
          "text": [
            "(0, 5)\n"
          ]
        }
      ],
      "source": [
        "print(x.span())"
      ]
    },
    {
      "cell_type": "code",
      "execution_count": null,
      "metadata": {
        "id": "RTmUy33-us2x",
        "outputId": "dca21f7d-3ffe-4f95-d508-7660172aabe1"
      },
      "outputs": [
        {
          "name": "stdout",
          "output_type": "stream",
          "text": [
            "CPepe pecas pica papas Con un pico\n"
          ]
        }
      ],
      "source": [
        "print(x.string)"
      ]
    },
    {
      "cell_type": "code",
      "execution_count": null,
      "metadata": {
        "id": "LyE4zlKQus2z",
        "outputId": "bd0fda4a-f0dc-4947-f128-6f46a36ca6cc",
        "scrolled": true
      },
      "outputs": [
        {
          "name": "stdout",
          "output_type": "stream",
          "text": [
            "CPepe\n"
          ]
        }
      ],
      "source": [
        "print(x.group())"
      ]
    },
    {
      "cell_type": "markdown",
      "metadata": {
        "id": "JO4sishhus21"
      },
      "source": [
        "# Ejercicios "
      ]
    },
    {
      "cell_type": "markdown",
      "metadata": {
        "id": "V38rZueGus22"
      },
      "source": [
        "1. Cree una función que verifique que todas la letras están en minúscula\n"
      ]
    },
    {
      "cell_type": "code",
      "execution_count": 4,
      "metadata": {
        "id": "OTqPbOdQus23"
      },
      "outputs": [],
      "source": [
        "rexp = r'^[a-z]+$'"
      ]
    },
    {
      "cell_type": "code",
      "execution_count": 7,
      "metadata": {
        "id": "QCF2ibFBus24"
      },
      "outputs": [],
      "source": [
        "es_minuscula = re.match(rexp, \"Holamundo\")\n",
        "#es_minuscula = re.match(rexp, \"holamundo\")"
      ]
    },
    {
      "cell_type": "code",
      "execution_count": 8,
      "metadata": {
        "id": "k6RBAv9Aus25",
        "outputId": "3b386804-63e0-4e31-e1f3-55f4e1f44e33"
      },
      "outputs": [
        {
          "name": "stdout",
          "output_type": "stream",
          "text": [
            "None\n"
          ]
        }
      ],
      "source": [
        "print(es_minuscula)"
      ]
    },
    {
      "cell_type": "markdown",
      "metadata": {
        "id": "EiPhHcWmus26"
      },
      "source": [
        "2. Cree una función que reciba un email y valide que este tiene el formato correcto\n"
      ]
    },
    {
      "cell_type": "code",
      "execution_count": 9,
      "metadata": {
        "id": "NpFLwOGTus28"
      },
      "outputs": [],
      "source": [
        "eexp = r\"^[a-zA-Z0-9_.+-]+@[a-zA-Z0-9]+\\.[a-zA-Z0-9]+$\""
      ]
    },
    {
      "cell_type": "code",
      "execution_count": 10,
      "metadata": {
        "id": "6bU7SVLkus29"
      },
      "outputs": [],
      "source": [
        "email = \"micorreo@dominio.edu\""
      ]
    },
    {
      "cell_type": "code",
      "execution_count": 11,
      "metadata": {
        "id": "WF9jcreEus2-",
        "outputId": "a5851428-eb95-4ea3-d783-36dbf0e83156"
      },
      "outputs": [
        {
          "name": "stdout",
          "output_type": "stream",
          "text": [
            "Email válido\n"
          ]
        }
      ],
      "source": [
        "if re.match(eexp, email) is None:\n",
        "    print(\"Email inválido\")\n",
        "else:\n",
        "    print(\"Email válido\")"
      ]
    },
    {
      "cell_type": "markdown",
      "metadata": {
        "id": "JDmUm8eEus3A"
      },
      "source": [
        "3. Cree una función que reciba una cadena de caracteres e indique si dentro de ella hay números\n"
      ]
    },
    {
      "cell_type": "code",
      "execution_count": 12,
      "metadata": {
        "id": "84nkFb7Mus3B"
      },
      "outputs": [],
      "source": [
        "dexp = r'\\d+'\n",
        "cadena = \" mi equipo  tiene al 11 y tambien tiene al 20, 56\""
      ]
    },
    {
      "cell_type": "code",
      "execution_count": 13,
      "metadata": {
        "id": "DDb98HFcus3C",
        "outputId": "ec47c9e5-59aa-4a56-a15b-6b391ca62d1c"
      },
      "outputs": [
        {
          "name": "stdout",
          "output_type": "stream",
          "text": [
            "La cadena contiene los números: ['11', '20', '56']\n"
          ]
        }
      ],
      "source": [
        "x = re.findall(dexp,cadena)\n",
        "if x:\n",
        "    print(\"La cadena contiene los números:\" , x)\n",
        "else:\n",
        "    print(\"La cadena no  contiene números:\" )"
      ]
    },
    {
      "cell_type": "markdown",
      "metadata": {
        "id": "zBs4SigWus3E"
      },
      "source": [
        "4. Crear una función que valide un URL e indique si es válido o no. El url puede ser HTTP o  HTTPS.\n"
      ]
    },
    {
      "cell_type": "code",
      "execution_count": 14,
      "metadata": {
        "id": "qDSMigFjus3F"
      },
      "outputs": [],
      "source": [
        "url = \"http://www.google.com\""
      ]
    },
    {
      "cell_type": "code",
      "execution_count": 15,
      "metadata": {
        "id": "xOskmTA4us3G"
      },
      "outputs": [],
      "source": [
        "urlexp = r'^(http|https|HTTP|HTTPS)://w{3}\\.[a-zA-Z0-9-/.]{2,256}\\.[a-zA-Z]{3}$'"
      ]
    },
    {
      "cell_type": "code",
      "execution_count": 16,
      "metadata": {
        "id": "jU1PDZsius3H",
        "outputId": "b2ada6a3-3181-4509-b996-5957887e0264"
      },
      "outputs": [
        {
          "name": "stdout",
          "output_type": "stream",
          "text": [
            "url válida\n"
          ]
        }
      ],
      "source": [
        "if re.match(urlexp, url) is None:\n",
        "    print(\"url inválida\")\n",
        "else:\n",
        "    print(\"url válida\")"
      ]
    },
    {
      "cell_type": "code",
      "execution_count": null,
      "metadata": {
        "id": "dj3h-yU-us3J"
      },
      "outputs": [],
      "source": []
    },
    {
      "cell_type": "markdown",
      "metadata": {
        "id": "cKj6CkVrus3K"
      },
      "source": [
        "5. Crear una función que valide el formato de las siguientes forma de fecha DD/MM/AAAA y DD-MM-AAAA, e indique si es válido o no \n"
      ]
    },
    {
      "cell_type": "code",
      "execution_count": 17,
      "metadata": {
        "id": "lTZib0Kzus3M"
      },
      "outputs": [],
      "source": [
        "fecha1 = '31/12/1900'\n",
        "fecha2 = '01-01-2020'"
      ]
    },
    {
      "cell_type": "code",
      "execution_count": 18,
      "metadata": {
        "id": "9KsrwXTdus3M"
      },
      "outputs": [],
      "source": [
        "dateexp = r'(0[1-9]|1[0-9]|2[0-9]|3[0-1])[/-](0[1-9]|1[1-2])[/-][1-9][0-9]{3}'\n",
        "# o pueden usar tambien dateexp = r'(0[1-9]|1[0-9]|2[0-9]|3[0-1])[/-](0[1-9]|1[0-2])[/-][1-9][0-9][0-9][0-9]'"
      ]
    },
    {
      "cell_type": "code",
      "execution_count": 19,
      "metadata": {
        "colab": {
          "base_uri": "https://localhost:8080/"
        },
        "id": "EKI5F2Qfus3N",
        "outputId": "53905527-d97b-46aa-b607-0f3f51a8ad5f"
      },
      "outputs": [
        {
          "name": "stdout",
          "output_type": "stream",
          "text": [
            "fecha válida\n"
          ]
        }
      ],
      "source": [
        "if re.match(dateexp, fecha1) is None:\n",
        "    print(\"fecha  inválida\")\n",
        "else:\n",
        "    print(\"fecha válida\")"
      ]
    },
    {
      "cell_type": "code",
      "execution_count": 20,
      "metadata": {
        "id": "vidCiqIVus3O",
        "outputId": "18b4647b-2487-4b76-e915-4928267ad64a"
      },
      "outputs": [
        {
          "name": "stdout",
          "output_type": "stream",
          "text": [
            "fecha válida\n"
          ]
        }
      ],
      "source": [
        "if re.match(dateexp, fecha2) is None:\n",
        "    print(\"fecha  inválida\")\n",
        "else:\n",
        "    print(\"fecha válida\")"
      ]
    },
    {
      "cell_type": "markdown",
      "metadata": {
        "id": "R1LYysiOus3P"
      },
      "source": [
        "6. Crear una función que dado un formato de fecha como los anteriores , separe el día, el mes y el año y retorno un Sting con el siguiente formato :  La fecha es  día [DD] del mes  de [MM] del año [AAAA]\n",
        "Ejemplo: 23/11/2020 debe tranformarse a : “La fecha es días 23 del mes de Noviembre del año 2020”\n"
      ]
    },
    {
      "cell_type": "code",
      "execution_count": 21,
      "metadata": {
        "id": "ON3dJW0_us3R"
      },
      "outputs": [],
      "source": [
        "def convertMes(mes):\n",
        "    if mes.isnumeric():\n",
        "        if mes == \"01\":\n",
        "            return \"Enero\"\n",
        "        elif mes == \"02\":\n",
        "            return \"Febrero\"\n",
        "        elif mes == \"03\":\n",
        "            return \"Marzo\"\n",
        "        elif mes == \"04\":\n",
        "            return \"Abril\"\n",
        "        elif mes == \"05\":\n",
        "            return \"Mayo\"\n",
        "        elif mes == \"06\":\n",
        "            return \"Junio\"\n",
        "        elif mes == \"07\":\n",
        "            return \"Julio\"\n",
        "        elif mes == \"08\":\n",
        "            return \"Agosto\"\n",
        "        elif mes == \"09\":\n",
        "            return \"Setiembre\"\n",
        "        elif mes == \"10\":\n",
        "            return \"Octubre\"\n",
        "        elif mes == \"11\":\n",
        "            return \"Noviembre\"\n",
        "        elif mes == \"12\":\n",
        "            return \"Diciembre\"\n",
        "        else:\n",
        "            return None\n",
        "    else:\n",
        "        return None\n",
        "        \n",
        "            \n",
        "        \n",
        "    "
      ]
    },
    {
      "cell_type": "code",
      "execution_count": 22,
      "metadata": {
        "id": "8d2qs30vus3U"
      },
      "outputs": [],
      "source": [
        "def formafecha(fecha, rexp):\n",
        "    if re.match(rexp, fecha) is None:\n",
        "        return None\n",
        "    else:\n",
        "         dlist = re.split('[/-]',fecha)\n",
        "         return \"La fecha es dia \" + dlist[0] + \" del mes de \"+ convertMes(dlist[1])+ \" del año \" + dlist[2]\n",
        "    \n",
        "    "
      ]
    },
    {
      "cell_type": "code",
      "execution_count": 23,
      "metadata": {
        "id": "IbULkhPAus3W",
        "outputId": "d24bff6a-68a0-43d8-c02a-665be3ec8453"
      },
      "outputs": [
        {
          "name": "stdout",
          "output_type": "stream",
          "text": [
            "La fecha es dia 01 del mes de Enero del año 2020\n"
          ]
        }
      ],
      "source": [
        "print(formafecha(fecha2,dateexp))"
      ]
    }
  ],
  "metadata": {
    "colab": {
      "collapsed_sections": [],
      "name": "Clase_9_IntroPython.ipynb",
      "provenance": []
    },
    "kernelspec": {
      "display_name": "Python 3",
      "language": "python",
      "name": "python3"
    },
    "language_info": {
      "codemirror_mode": {
        "name": "ipython",
        "version": 3
      },
      "file_extension": ".py",
      "mimetype": "text/x-python",
      "name": "python",
      "nbconvert_exporter": "python",
      "pygments_lexer": "ipython3",
      "version": "3.12.4"
    }
  },
  "nbformat": 4,
  "nbformat_minor": 0
}
