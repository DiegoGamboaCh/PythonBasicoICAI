{
 "cells": [
  {
   "cell_type": "markdown",
   "metadata": {},
   "source": [
    "# Python Básico "
   ]
  },
  {
   "cell_type": "markdown",
   "metadata": {},
   "source": [
    "- Funciones\n",
    "- Funciones Lambda\n",
    "- Diccionario de funciones\n",
    "- Decoradores\n",
    "- Generadores\n",
    "- Context manager"
   ]
  },
  {
   "cell_type": "markdown",
   "metadata": {},
   "source": [
    "## Funciones\n",
    "\n",
    "\n"
   ]
  },
  {
   "cell_type": "markdown",
   "metadata": {},
   "source": [
    "### Función sin parámetro"
   ]
  },
  {
   "cell_type": "code",
   "execution_count": null,
   "metadata": {},
   "outputs": [],
   "source": [
    "def foo():\n",
    "    print(\"Función sin parámetro\")"
   ]
  },
  {
   "cell_type": "code",
   "execution_count": null,
   "metadata": {},
   "outputs": [],
   "source": [
    "foo()"
   ]
  },
  {
   "cell_type": "code",
   "execution_count": null,
   "metadata": {},
   "outputs": [],
   "source": [
    "#función sin paramétro más compleja\n",
    "def hello():\n",
    "  name = str(input(\"Enter your name: \"))\n",
    "  if name:\n",
    "    print (\"Hello \" + str(name))\n",
    "  else:\n",
    "    print(\"Hello World\") \n",
    "  return \n",
    "  \n",
    "hello()"
   ]
  },
  {
   "cell_type": "code",
   "execution_count": null,
   "metadata": {},
   "outputs": [],
   "source": [
    "# función sin parámetro con y sin return \n",
    "def helloW():\n",
    "  print(\"Hello World\") \n",
    "  return(\"hello \")\n",
    "\n",
    "def helloW_noreturn():\n",
    "  print(\"Hello World\")\n"
   ]
  },
  {
   "cell_type": "code",
   "execution_count": null,
   "metadata": {},
   "outputs": [],
   "source": [
    "# multiplica la salida de  `helloW()` por  2 \n",
    "helloW() * 2"
   ]
  },
  {
   "cell_type": "code",
   "execution_count": null,
   "metadata": {},
   "outputs": [],
   "source": [
    "# trata de  multiplicar la  `helloW_noreturn()` por  2 \n",
    "# se Obtendrá un TypeError que dice que no puede hacer la operación de multiplicación para NoneType\n",
    "helloW_noreturn() * 2"
   ]
  },
  {
   "cell_type": "markdown",
   "metadata": {},
   "source": [
    "### Función con  parámetro"
   ]
  },
  {
   "cell_type": "code",
   "execution_count": null,
   "metadata": {},
   "outputs": [],
   "source": [
    "def goo(param):\n",
    "    print(\"Función con  parámetro:\" , param , \",  de tipo: \", type (param))"
   ]
  },
  {
   "cell_type": "code",
   "execution_count": null,
   "metadata": {},
   "outputs": [],
   "source": [
    "goo(20)"
   ]
  },
  {
   "cell_type": "code",
   "execution_count": null,
   "metadata": {},
   "outputs": [],
   "source": [
    "#Función con multiples parámetros\n",
    "\n",
    "def goo2(param, param2):\n",
    "    print(\"Función con  parámetro 1 :\" , param , \",  de tipo: \", type (param))\n",
    "    print(\"Función con  parámetro 2 :\" , param2 , \",  de tipo: \", type (param2))"
   ]
  },
  {
   "cell_type": "code",
   "execution_count": null,
   "metadata": {},
   "outputs": [],
   "source": [
    "goo2(20, \"Hola\")"
   ]
  },
  {
   "cell_type": "code",
   "execution_count": null,
   "metadata": {},
   "outputs": [],
   "source": []
  },
  {
   "cell_type": "code",
   "execution_count": null,
   "metadata": {
    "scrolled": true
   },
   "outputs": [],
   "source": [
    "myFunc3(20, \"Hola\")"
   ]
  },
  {
   "cell_type": "code",
   "execution_count": null,
   "metadata": {},
   "outputs": [],
   "source": [
    "def cuadradoDeLista(lista):\n",
    " for i in lista:\n",
    "    sqr = i*i\n",
    "    print('El cuadrado de', i, 'es', sqr)"
   ]
  },
  {
   "cell_type": "code",
   "execution_count": null,
   "metadata": {},
   "outputs": [],
   "source": [
    "cuadradoDeLista([1,2,3,4,5])"
   ]
  },
  {
   "cell_type": "code",
   "execution_count": null,
   "metadata": {},
   "outputs": [],
   "source": [
    "#  función `suma()`\n",
    "def suma(a,b):\n",
    "  return a + b"
   ]
  },
  {
   "cell_type": "code",
   "execution_count": null,
   "metadata": {},
   "outputs": [],
   "source": [
    "a = suma(1 ,3)\n",
    "print(a)"
   ]
  },
  {
   "cell_type": "markdown",
   "metadata": {},
   "source": [
    "### Función con parámetros opcionales"
   ]
  },
  {
   "cell_type": "code",
   "execution_count": null,
   "metadata": {},
   "outputs": [],
   "source": [
    "# función `suma()` \n",
    "def suma(a,b = 2):\n",
    "  return a + b\n"
   ]
  },
  {
   "cell_type": "code",
   "execution_count": null,
   "metadata": {},
   "outputs": [],
   "source": [
    "# invoca con sólo un parámetro \n",
    "suma(1)"
   ]
  },
  {
   "cell_type": "code",
   "execution_count": null,
   "metadata": {},
   "outputs": [],
   "source": [
    "# invoca con 2 parámetros \n",
    "suma(1,3)"
   ]
  },
  {
   "cell_type": "code",
   "execution_count": null,
   "metadata": {},
   "outputs": [],
   "source": [
    "# usando nombre de parámetros\n",
    "suma(b=4, a=1)"
   ]
  },
  {
   "cell_type": "code",
   "execution_count": null,
   "metadata": {},
   "outputs": [],
   "source": [
    "# número de parámetros desconocido"
   ]
  },
  {
   "cell_type": "code",
   "execution_count": null,
   "metadata": {},
   "outputs": [],
   "source": [
    "def suma_ext(*args):\n",
    "  return sum(args)\n",
    "suma_ext(1,4,5)"
   ]
  },
  {
   "cell_type": "markdown",
   "metadata": {},
   "source": [
    "### Función como Objeto"
   ]
  },
  {
   "cell_type": "code",
   "execution_count": null,
   "metadata": {},
   "outputs": [],
   "source": [
    "def first(msg):\n",
    "    print(msg)\n",
    "\n",
    "\n",
    "first(\"Hello\")\n",
    "\n",
    "second = first\n",
    "second(\"Hello\")"
   ]
  },
  {
   "cell_type": "markdown",
   "metadata": {},
   "source": [
    "###  funciones como argumentos"
   ]
  },
  {
   "cell_type": "code",
   "execution_count": null,
   "metadata": {},
   "outputs": [],
   "source": [
    "def inc(x):\n",
    "    return x + 1"
   ]
  },
  {
   "cell_type": "code",
   "execution_count": null,
   "metadata": {},
   "outputs": [],
   "source": [
    "def dec(x):\n",
    "    return x - 1"
   ]
  },
  {
   "cell_type": "code",
   "execution_count": null,
   "metadata": {},
   "outputs": [],
   "source": [
    "def ejecutar(func, x):\n",
    "    result = func(x)\n",
    "    return result  "
   ]
  },
  {
   "cell_type": "code",
   "execution_count": null,
   "metadata": {},
   "outputs": [],
   "source": [
    "ejecutar(inc, 3)"
   ]
  },
  {
   "cell_type": "markdown",
   "metadata": {},
   "source": [
    "### función puede devolver otra función."
   ]
  },
  {
   "cell_type": "code",
   "execution_count": null,
   "metadata": {},
   "outputs": [],
   "source": [
    "def is_called():\n",
    "    def is_returned():\n",
    "        print(\"Hello\")\n",
    "    return is_returned\n",
    "\n",
    "\n",
    "new_func = is_called()\n",
    "\n",
    "# Outputs \"Hello\"\n",
    "new_func()"
   ]
  },
  {
   "cell_type": "markdown",
   "metadata": {},
   "source": [
    " ## Función Lambda \n",
    " - La función lambda es una función anónima, o sea funciones  que no tienen nombre al ser definidas\n",
    " - En Python, la palabra clave **lambda** se utiliza para definir las funciones anónimas en vez de utilizar la palabra reservada **def**\n",
    " - Las funciones lambda sólo pueden contener una sola expresión en su implementación por lo que no podrán ser utilizadas cuando más una sentencia sea requerida.\n",
    " - Toda función de este tipo comenzará con la palabra reservada lambda . Para indicar indicar el principio de la implementación se colocan : y finalmente se especificará la única expresión que contendrá la función\n",
    " - Este tipo de función son útiles  cuando se usa en combinación con otras funciones de Python para la transformación de estructuras de datos, como se va a ver con el map-reduce"
   ]
  },
  {
   "cell_type": "code",
   "execution_count": null,
   "metadata": {},
   "outputs": [],
   "source": []
  },
  {
   "cell_type": "code",
   "execution_count": 1,
   "metadata": {},
   "outputs": [
    {
     "data": {
      "text/plain": [
       "10"
      ]
     },
     "execution_count": 1,
     "metadata": {},
     "output_type": "execute_result"
    }
   ],
   "source": [
    "# fuinción con un sólo parámetro\n",
    "duplica = lambda x: x*2\n",
    "duplica(5)"
   ]
  },
  {
   "cell_type": "code",
   "execution_count": null,
   "metadata": {},
   "outputs": [],
   "source": [
    "# con varios parámetros\n",
    "# Para que la función lambda acepte más de un argumento estos deben separarse por comas\n",
    "sum = lambda x, y: x + y;\n",
    "sum(4,5)"
   ]
  },
  {
   "cell_type": "code",
   "execution_count": 4,
   "metadata": {},
   "outputs": [
    {
     "data": {
      "text/plain": [
       "256"
      ]
     },
     "execution_count": 4,
     "metadata": {},
     "output_type": "execute_result"
    }
   ],
   "source": [
    "# con parámetros opcionales, en donde asignamos un valor por defecto a los que consideramos opcional\n",
    "# ejemplo de operación exponente donde el valor por defecto es exponente de 10 de x\n",
    "exp = lambda x, y=10: x ** y;\n",
    "exp(2)"
   ]
  },
  {
   "cell_type": "code",
   "execution_count": null,
   "metadata": {},
   "outputs": [],
   "source": [
    "exp(2,8)"
   ]
  },
  {
   "cell_type": "markdown",
   "metadata": {},
   "source": [
    "#### Map\n",
    "- Función lambda con la función map para aplicar una transformación a cada elemento de una lista\n",
    "- ver https://www.learnpython.org/en/Map,_Filter,_Reduce"
   ]
  },
  {
   "cell_type": "code",
   "execution_count": 7,
   "metadata": {},
   "outputs": [
    {
     "name": "stdout",
     "output_type": "stream",
     "text": [
      "[1, 8, 27, 125, 512]\n"
     ]
    }
   ],
   "source": [
    "# se toma cada número de la lista números y se obtiene el cubo del mismo dando como resultado una lista de los cubos de los valores originales.\n",
    "numeros = [1, 2, 3, 5, 8]\n",
    "cubos = list(map(lambda x: x**3, numeros))\n",
    "print(cubos)"
   ]
  },
  {
   "cell_type": "markdown",
   "metadata": {},
   "source": [
    "#### Reduce\n",
    "- Función para aplicar una transformación a una lista o secuencia y obtener como salida un valor\n",
    "- https://www.learnpython.org/en/Map,_Filter,_Reduce"
   ]
  },
  {
   "cell_type": "code",
   "execution_count": 11,
   "metadata": {},
   "outputs": [
    {
     "name": "stdout",
     "output_type": "stream",
     "text": [
      "55\n"
     ]
    }
   ],
   "source": [
    "# Use lambda function with `reduce()`\n",
    "#Se Utiliza esta función de forma acumulativa para los elementos de la lista my_list,\n",
    "#de izquierda a derecha y reduce la secuencia a un solo valor, 55, en este caso.\n",
    "from functools import reduce\n",
    "my_list = [1,2,3,4,5,6,7,8,9,10]\n",
    "reduced_list = reduce(lambda x, y: x+y, my_list)\n",
    "print(reduced_list)"
   ]
  },
  {
   "cell_type": "markdown",
   "metadata": {},
   "source": [
    "#### Trabajo en clase\n",
    "- Investigue sobre el uso de la función lambda aplicado a filtrado y ordenamiento de elementos\n",
    "- Explique la funcionalidad de cada uan de ellas y la sintexis más importante\n",
    "- Ejemplifique su uso con 2 ejemplos de cada una de ellas"
   ]
  },
  {
   "cell_type": "code",
   "execution_count": null,
   "metadata": {},
   "outputs": [],
   "source": []
  },
  {
   "cell_type": "markdown",
   "metadata": {},
   "source": [
    "## Diccionario de Funciones\n",
    "- Un diccionario en Python es una colección de elementos, donde cada uno tiene una llave key y un valor value. \n",
    "- Existe un caso interesando que demuestra lo flexible  y el potencial de un tipo de esructura como estas"
   ]
  },
  {
   "cell_type": "code",
   "execution_count": null,
   "metadata": {},
   "outputs": [],
   "source": []
  },
  {
   "cell_type": "code",
   "execution_count": 13,
   "metadata": {},
   "outputs": [],
   "source": [
    "import math \n",
    "\n",
    "def suma(arg1 , arg2):\n",
    "    print(\"Suma de \", str(arg1), \"y\", str(arg2), \"es: \" , arg1+arg2)\n",
    "\n",
    "def resta(arg1 , arg2):\n",
    "  print(\"Resta de \", str(arg1) ,\"y\", str(arg2), \"es: \" , arg1-arg2)\n",
    "\n",
    "def raiz(arg1):\n",
    "  print(\"Raiz Cuadrada\", \"de\", str(arg1),\"es: \" ,math.sqrt(arg1))\n",
    "\n",
    "\n",
    "\n",
    "myDictDeOps = {\n",
    "    \"sumar\" : suma,\n",
    "    \"restar\": resta,\n",
    "    \"raiz\"  : raiz\n",
    "    #...\n",
    "    #\"Pn\": pn\n",
    "}\n"
   ]
  },
  {
   "cell_type": "code",
   "execution_count": 14,
   "metadata": {},
   "outputs": [
    {
     "name": "stdout",
     "output_type": "stream",
     "text": [
      "Suma de  10 y 5 es:  15\n"
     ]
    }
   ],
   "source": [
    "myDictDeOps['sumar'](10,5)"
   ]
  },
  {
   "cell_type": "code",
   "execution_count": 15,
   "metadata": {},
   "outputs": [
    {
     "name": "stdout",
     "output_type": "stream",
     "text": [
      "Resta de  10 y 5 es:  5\n"
     ]
    }
   ],
   "source": [
    "myDictDeOps['restar'](10,5)"
   ]
  },
  {
   "cell_type": "code",
   "execution_count": null,
   "metadata": {},
   "outputs": [],
   "source": [
    "myDictDeOps['raiz'](10)\n"
   ]
  },
  {
   "cell_type": "code",
   "execution_count": null,
   "metadata": {},
   "outputs": [],
   "source": []
  },
  {
   "cell_type": "markdown",
   "metadata": {},
   "source": [
    "## Decorators\n",
    "- Los decoradores son funciones que modifican el comportamiento de otras funciones\n",
    "- Ayudan a acortar nuestro código \n",
    "- Es considerado un patrón de programación\n",
    "- El concepto de decoradores sigue los conceptos de \n",
    "    - Funciones anidadas\n",
    "    - Paso de funciones como argumentos en funciones\n",
    "    - Retorno de una función como un valor"
   ]
  },
  {
   "cell_type": "markdown",
   "metadata": {},
   "source": [
    "- ver https://www.programiz.com/python-programming/decorator\n",
    "- ver https://python-intermedio.readthedocs.io/es/latest/decorators.html\n",
    "- ver https://pythones.net/decoradores-en-python-oop/\n",
    "    "
   ]
  },
  {
   "cell_type": "code",
   "execution_count": 16,
   "metadata": {},
   "outputs": [],
   "source": [
    "# esta es una función ordinaria\n",
    "def f_ordinaria():\n",
    "    return \"Soy una función ordinaria\""
   ]
  },
  {
   "cell_type": "code",
   "execution_count": 17,
   "metadata": {},
   "outputs": [
    {
     "data": {
      "text/plain": [
       "'Soy una función ordinaria'"
      ]
     },
     "execution_count": 17,
     "metadata": {},
     "output_type": "execute_result"
    }
   ],
   "source": [
    "# invoca  a la función ordinaria\n",
    "f_ordinaria()"
   ]
  },
  {
   "cell_type": "code",
   "execution_count": 19,
   "metadata": {},
   "outputs": [],
   "source": [
    "# define la función decoradora\n",
    "def f_decorador(func):\n",
    "    # define la  inner function \n",
    "    def inner():\n",
    "        # agrega algún elemento(s) a la función decoradora\n",
    "        # llama a la función original mediante func()\n",
    "        print(func() , \" pero ahora  decorada\")\n",
    "    return inner"
   ]
  },
  {
   "cell_type": "code",
   "execution_count": 20,
   "metadata": {},
   "outputs": [],
   "source": [
    "# decora la función ordinaria\n",
    "f_mejorada = f_decorador(f_ordinaria)"
   ]
  },
  {
   "cell_type": "code",
   "execution_count": 21,
   "metadata": {},
   "outputs": [
    {
     "name": "stdout",
     "output_type": "stream",
     "text": [
      "Soy una función ordinaria  pero ahora  decorada\n"
     ]
    }
   ],
   "source": [
    "# invoca a la función decoradora\n",
    "f_mejorada()"
   ]
  },
  {
   "cell_type": "markdown",
   "metadata": {},
   "source": [
    "### azucar sintáxtico en decoradores\n",
    "-  Esta es una construcción común y por esta razón, Python tiene una sintaxis para simplificar esto.\n",
    "- Podemos usar el símbolo @ junto con el nombre de la función decoradora y\n",
    "- colocarlo sobre la definición de la función a decorar."
   ]
  },
  {
   "cell_type": "code",
   "execution_count": null,
   "metadata": {},
   "outputs": [],
   "source": [
    "@f_decorador\n",
    "def f_ordinaria2():\n",
    "    return \"Soy la 2da  función ordinaria\""
   ]
  },
  {
   "cell_type": "code",
   "execution_count": null,
   "metadata": {},
   "outputs": [],
   "source": [
    "f_ordinaria2()"
   ]
  },
  {
   "cell_type": "markdown",
   "metadata": {},
   "source": [
    "### decoradores con parámetros"
   ]
  },
  {
   "cell_type": "code",
   "execution_count": null,
   "metadata": {},
   "outputs": [],
   "source": [
    "# se define una fuinción ordinaria\n",
    "def divide(a, b):\n",
    "    return a/b"
   ]
  },
  {
   "cell_type": "code",
   "execution_count": null,
   "metadata": {},
   "outputs": [],
   "source": [
    "divide(4,2)"
   ]
  },
  {
   "cell_type": "code",
   "execution_count": null,
   "metadata": {},
   "outputs": [],
   "source": [
    "# observamos que el caso de la división por cero no fue tomado en cuenta\n",
    "divide(4,0)"
   ]
  },
  {
   "cell_type": "code",
   "execution_count": 22,
   "metadata": {},
   "outputs": [],
   "source": [
    "# se crea la función decoradora que va a extender la funcionalidad de la función ordinaria\n",
    "def smart_divide(func):\n",
    "    def inner(a, b):\n",
    "        print(f\"Divide {a} y  {b} con resultado igual a: \", end=\"\")\n",
    "        if b == 0:\n",
    "            print(\"Error, División por cero!\")\n",
    "            return\n",
    "\n",
    "        return func(a, b)\n",
    "    return inner\n",
    "\n",
    "# usamos el symbolo @ como decorador\n",
    "@smart_divide\n",
    "def divide(a, b):\n",
    "    print(a/b)"
   ]
  },
  {
   "cell_type": "code",
   "execution_count": null,
   "metadata": {},
   "outputs": [],
   "source": [
    "divide(4,2)"
   ]
  },
  {
   "cell_type": "code",
   "execution_count": null,
   "metadata": {},
   "outputs": [],
   "source": [
    "divide(4,0)"
   ]
  },
  {
   "cell_type": "markdown",
   "metadata": {},
   "source": [
    "### encadenando decoradores "
   ]
  },
  {
   "cell_type": "code",
   "execution_count": null,
   "metadata": {},
   "outputs": [],
   "source": [
    "def star(func):\n",
    "    def inner(*args, **kwargs):\n",
    "        print(\"*\" * 30)\n",
    "        func(*args, **kwargs)\n",
    "        print(\"*\" * 30)\n",
    "    return inner\n",
    "\n",
    "\n",
    "def percent(func):\n",
    "    def inner(*args, **kwargs):\n",
    "        print(\"%\" * 30)\n",
    "        func(*args, **kwargs)\n",
    "        print(\"%\" * 30)\n",
    "    return inner\n"
   ]
  },
  {
   "cell_type": "code",
   "execution_count": null,
   "metadata": {},
   "outputs": [],
   "source": [
    "@star\n",
    "@percent\n",
    "def printer(msg):\n",
    "    print(msg)\n",
    "\n",
    "\n",
    "printer(\"Hola amigos\")"
   ]
  },
  {
   "cell_type": "markdown",
   "metadata": {},
   "source": [
    "## Generators\n",
    "- Las funciones generadoras se ven y actúan como las funciones regulares, pero con una característica importante:\n",
    "\n",
    "  - Las funciones generadoras usan la palabra clave yield Python en lugar de return\n",
    "  - En este caso, va ir dando los valores con forme se soliciten "
   ]
  },
  {
   "cell_type": "code",
   "execution_count": null,
   "metadata": {},
   "outputs": [],
   "source": [
    "\n",
    "\n",
    "def secuencia_infinita():\n",
    "    num = 0\n",
    "    while True:\n",
    "        yield num\n",
    "        num += 1"
   ]
  },
  {
   "cell_type": "code",
   "execution_count": null,
   "metadata": {},
   "outputs": [],
   "source": [
    "gen = secuencia_infinita()\n"
   ]
  },
  {
   "cell_type": "code",
   "execution_count": null,
   "metadata": {},
   "outputs": [],
   "source": [
    "next(gen)"
   ]
  },
  {
   "cell_type": "markdown",
   "metadata": {},
   "source": [
    "### otros ejemplo"
   ]
  },
  {
   "cell_type": "code",
   "execution_count": null,
   "metadata": {},
   "outputs": [],
   "source": [
    "def multi_yield():\n",
    "    yield_str = \"Imprime el primer  string\"\n",
    "    yield yield_str\n",
    "    yield_str = \"Imprime el segundo string\"\n",
    "    yield yield_str"
   ]
  },
  {
   "cell_type": "code",
   "execution_count": null,
   "metadata": {},
   "outputs": [],
   "source": [
    "res = multi_yield()"
   ]
  },
  {
   "cell_type": "code",
   "execution_count": null,
   "metadata": {},
   "outputs": [],
   "source": [
    "next(res)"
   ]
  },
  {
   "cell_type": "code",
   "execution_count": null,
   "metadata": {},
   "outputs": [],
   "source": [
    "next(res)"
   ]
  },
  {
   "cell_type": "code",
   "execution_count": null,
   "metadata": {},
   "outputs": [],
   "source": [
    "# falla ya que  la iteración termino  y el objeto ya no esta en memoria\n",
    "next(res)"
   ]
  },
  {
   "cell_type": "markdown",
   "metadata": {},
   "source": [
    "## Contexto\n",
    "- Los gestores de contexto o context managers permiten asignar o liberar recursos de una forma expresa.\n",
    "- El ejemplo más usado es el with\n",
    "- Es posible su utilización dado que las clases  usan el módulo contextlib que proporciona el decorador contextmanager\n",
    "- ver https://docs.python.org/es/3.9/library/contextlib.html\n",
    "- ver https://realpython.com/python-with-statement/\n",
    "- https://www.freecodecamp.org/news/context-managers-in-python/"
   ]
  },
  {
   "cell_type": "markdown",
   "metadata": {},
   "source": [
    "En el ejemplo siguiente se abre el fichero, se escriben unos datos y se cierra automáticamente. Si se produce un error al intentar abrir el fichero o al intentar escribir contenido en el, el fichero se cierra al final."
   ]
  },
  {
   "cell_type": "code",
   "execution_count": null,
   "metadata": {},
   "outputs": [],
   "source": [
    "with open('hola.txt', 'w') as f:\n",
    "    f.write('hola, mundo!')"
   ]
  },
  {
   "cell_type": "markdown",
   "metadata": {},
   "source": [
    "el mismo código sin el uso del gestor de contexto"
   ]
  },
  {
   "cell_type": "code",
   "execution_count": null,
   "metadata": {},
   "outputs": [],
   "source": [
    "f = open('hola.txt', 'w')\n",
    "try:\n",
    "    f.write('hola, mundo')\n",
    "finally:\n",
    "    f.close()"
   ]
  },
  {
   "cell_type": "markdown",
   "metadata": {},
   "source": [
    "##  Actividad Asincrónica"
   ]
  },
  {
   "cell_type": "markdown",
   "metadata": {},
   "source": []
  },
  {
   "cell_type": "markdown",
   "metadata": {},
   "source": [
    "1. Implemente por medio de un generador al función que produzca las secuencias de Fibonacci"
   ]
  },
  {
   "cell_type": "code",
   "execution_count": null,
   "metadata": {},
   "outputs": [],
   "source": []
  },
  {
   "cell_type": "markdown",
   "metadata": {},
   "source": [
    "2. Implementa un generador  de números primos que vaya almacenando los primos encontrados hasta el momento en una lista."
   ]
  },
  {
   "cell_type": "code",
   "execution_count": null,
   "metadata": {},
   "outputs": [],
   "source": []
  },
  {
   "cell_type": "markdown",
   "metadata": {},
   "source": [
    "3. Realize los ejercicios de Lambda,  Functions, Try Except,  File Handling, Open File, Write to File y Remove File del sitio https://www.w3schools.com/python/python_exercises.asp. Incluya la pregunta y resultado en este notebook\n"
   ]
  },
  {
   "cell_type": "code",
   "execution_count": null,
   "metadata": {},
   "outputs": [],
   "source": []
  }
 ],
 "metadata": {
  "kernelspec": {
   "display_name": "Python 3",
   "language": "python",
   "name": "python3"
  },
  "language_info": {
   "codemirror_mode": {
    "name": "ipython",
    "version": 3
   },
   "file_extension": ".py",
   "mimetype": "text/x-python",
   "name": "python",
   "nbconvert_exporter": "python",
   "pygments_lexer": "ipython3",
   "version": "3.12.4"
  }
 },
 "nbformat": 4,
 "nbformat_minor": 2
}
