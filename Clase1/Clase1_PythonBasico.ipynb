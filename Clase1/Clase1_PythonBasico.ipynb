{
 "cells": [
  {
   "cell_type": "markdown",
   "id": "30718308-b1ef-416a-8f94-000335454da8",
   "metadata": {},
   "source": [
    "# Python Básico \n"
   ]
  },
  {
   "cell_type": "markdown",
   "id": "c8d187a0-a48f-477b-9d31-f0e95f8dfda6",
   "metadata": {
    "jp-MarkdownHeadingCollapsed": true
   },
   "source": [
    "## Tipos de Datos "
   ]
  },
  {
   "cell_type": "code",
   "execution_count": 7,
   "id": "03be73c9-885a-46dd-bce5-212cce82b8a5",
   "metadata": {},
   "outputs": [
    {
     "data": {
      "text/plain": [
       "int"
      ]
     },
     "execution_count": 7,
     "metadata": {},
     "output_type": "execute_result"
    }
   ],
   "source": [
    "#Enteros\n",
    "type(1)"
   ]
  },
  {
   "cell_type": "code",
   "execution_count": 87,
   "id": "198e57b6-7943-4b5f-9764-8da7339396ec",
   "metadata": {},
   "outputs": [
    {
     "data": {
      "text/plain": [
       "str"
      ]
     },
     "execution_count": 87,
     "metadata": {},
     "output_type": "execute_result"
    }
   ],
   "source": [
    "#Cadena de caracteres\n",
    "type(\"Hola Mundo\")"
   ]
  },
  {
   "cell_type": "code",
   "execution_count": 17,
   "id": "aeac89bd-1a9b-4529-a270-7574c9ccbe5c",
   "metadata": {},
   "outputs": [
    {
     "data": {
      "text/plain": [
       "float"
      ]
     },
     "execution_count": 17,
     "metadata": {},
     "output_type": "execute_result"
    }
   ],
   "source": [
    "# punto flotantes\n",
    "type(1.2)"
   ]
  },
  {
   "cell_type": "code",
   "execution_count": 23,
   "id": "569b664c-c77d-45c0-998e-fea102393937",
   "metadata": {},
   "outputs": [
    {
     "data": {
      "text/plain": [
       "NoneType"
      ]
     },
     "execution_count": 23,
     "metadata": {},
     "output_type": "execute_result"
    }
   ],
   "source": [
    "# Booleano\n",
    "type(True) "
   ]
  },
  {
   "cell_type": "code",
   "execution_count": 53,
   "id": "5bdac430-6738-4120-b6e3-b9bea4a6a45d",
   "metadata": {},
   "outputs": [
    {
     "data": {
      "text/plain": [
       "dict"
      ]
     },
     "execution_count": 53,
     "metadata": {},
     "output_type": "execute_result"
    }
   ],
   "source": [
    "# Diccionario\n",
    "type({\"color\":\"red\", \"ascii\": 0xFF0000, \"num\":1})"
   ]
  },
  {
   "cell_type": "code",
   "execution_count": 65,
   "id": "3db2fb05-cf56-4518-9e96-83530bd38ce0",
   "metadata": {},
   "outputs": [
    {
     "data": {
      "text/plain": [
       "list"
      ]
     },
     "execution_count": 65,
     "metadata": {},
     "output_type": "execute_result"
    }
   ],
   "source": [
    "#Lista\n",
    "type([1,2,\"Hola\",3.14])"
   ]
  },
  {
   "cell_type": "code",
   "execution_count": 69,
   "id": "754917b0-7ef9-46bd-be83-c4621b4b946f",
   "metadata": {},
   "outputs": [
    {
     "data": {
      "text/plain": [
       "tuple"
      ]
     },
     "execution_count": 69,
     "metadata": {},
     "output_type": "execute_result"
    }
   ],
   "source": [
    "#Tuplas\n",
    "type((1,2,\"Hola\",3.14))"
   ]
  },
  {
   "cell_type": "code",
   "execution_count": 75,
   "id": "7cee5845-500e-45ce-bd4f-899e0861fbc1",
   "metadata": {},
   "outputs": [
    {
     "data": {
      "text/plain": [
       "set"
      ]
     },
     "execution_count": 75,
     "metadata": {},
     "output_type": "execute_result"
    }
   ],
   "source": [
    "#Conjunto\n",
    "type({3, 4, 5, \"Juan\", 3.21})"
   ]
  },
  {
   "cell_type": "code",
   "execution_count": 13,
   "id": "6bfd1b7f-9176-4799-a293-c62defaddf2d",
   "metadata": {},
   "outputs": [
    {
     "data": {
      "text/plain": [
       "list"
      ]
     },
     "execution_count": 13,
     "metadata": {},
     "output_type": "execute_result"
    }
   ],
   "source": [
    "type([1,2,3])"
   ]
  },
  {
   "cell_type": "code",
   "execution_count": 83,
   "id": "94842f2a-af87-4379-a7d7-30f33fa70230",
   "metadata": {},
   "outputs": [
    {
     "data": {
      "text/plain": [
       "range"
      ]
     },
     "execution_count": 83,
     "metadata": {},
     "output_type": "execute_result"
    }
   ],
   "source": [
    "#rangos\n",
    "type(range(5, 10))\n"
   ]
  },
  {
   "cell_type": "markdown",
   "id": "3be92090-8857-4b44-b913-f1f3ac7e8f3b",
   "metadata": {
    "jp-MarkdownHeadingCollapsed": true
   },
   "source": [
    "## Variables"
   ]
  },
  {
   "cell_type": "code",
   "execution_count": 106,
   "id": "83809c84-d0af-4423-8170-c1bd30d1c52e",
   "metadata": {},
   "outputs": [],
   "source": [
    " i = 8"
   ]
  },
  {
   "cell_type": "code",
   "execution_count": 108,
   "id": "b6591d3a-10d4-4904-9cc4-d845f9ebc101",
   "metadata": {},
   "outputs": [
    {
     "data": {
      "text/plain": [
       "int"
      ]
     },
     "execution_count": 108,
     "metadata": {},
     "output_type": "execute_result"
    }
   ],
   "source": [
    "type(i)"
   ]
  },
  {
   "cell_type": "code",
   "execution_count": 110,
   "id": "f98690fb-ea0b-434f-a43e-8de41fa9d8d0",
   "metadata": {},
   "outputs": [
    {
     "name": "stdout",
     "output_type": "stream",
     "text": [
      "8\n"
     ]
    }
   ],
   "source": [
    "print(i)"
   ]
  },
  {
   "cell_type": "code",
   "execution_count": 124,
   "id": "b5896d25-a0ba-4559-95ef-434eba0f88c4",
   "metadata": {},
   "outputs": [
    {
     "name": "stdout",
     "output_type": "stream",
     "text": [
      "8\n"
     ]
    }
   ],
   "source": [
    " y = i\n",
    "print(y)"
   ]
  },
  {
   "cell_type": "markdown",
   "id": "81902d7e-704e-42ee-80f1-513fee5d9a80",
   "metadata": {},
   "source": [
    "### Ejercicio: Cree sus variables con los distintos tipos vistos"
   ]
  },
  {
   "cell_type": "code",
   "execution_count": null,
   "id": "a7dc6d74-33f3-4164-af67-37bed4976d31",
   "metadata": {},
   "outputs": [],
   "source": []
  },
  {
   "cell_type": "markdown",
   "id": "8de0dbd8-c574-47a8-a365-0fa887afd1a7",
   "metadata": {
    "jp-MarkdownHeadingCollapsed": true
   },
   "source": [
    "## Captura y despliegue de datos"
   ]
  },
  {
   "cell_type": "code",
   "execution_count": 98,
   "id": "f2cd00aa-2aea-4bef-8211-bd71dbcb0a66",
   "metadata": {},
   "outputs": [
    {
     "name": "stdout",
     "output_type": "stream",
     "text": [
      "Bienvenidos estudiantes del curso de Python Básico\n"
     ]
    }
   ],
   "source": [
    "print(\"Bienvenidos estudiantes del curso de Python Básico\")"
   ]
  },
  {
   "cell_type": "code",
   "execution_count": 116,
   "id": "f604b6c7-1c45-4d9b-ba0d-952abc407d12",
   "metadata": {},
   "outputs": [
    {
     "name": "stdout",
     "output_type": "stream",
     "text": [
      "Número: 8\n"
     ]
    }
   ],
   "source": [
    "print(f\"Número: {i}\")"
   ]
  },
  {
   "cell_type": "code",
   "execution_count": 120,
   "id": "cd2fd955-479d-4b60-9455-8dbbbcd314d9",
   "metadata": {},
   "outputs": [
    {
     "name": "stdin",
     "output_type": "stream",
     "text": [
      "Por favor ingrese su nombre  Diego\n"
     ]
    },
    {
     "name": "stdout",
     "output_type": "stream",
     "text": [
      "Hola Diego !\n"
     ]
    }
   ],
   "source": [
    "user_input = input(\"Por favor ingrese su nombre \")\n",
    "print(f\"Hola {user_input} !\")"
   ]
  },
  {
   "cell_type": "markdown",
   "id": "80b632ee-b050-45de-b8a7-b4bbf5073813",
   "metadata": {
    "jp-MarkdownHeadingCollapsed": true
   },
   "source": [
    "## Operaciones aritméticas  básicas "
   ]
  },
  {
   "cell_type": "markdown",
   "id": "1ff8310a-d5da-4e58-b724-eeb76bfd6fa1",
   "metadata": {
    "jp-MarkdownHeadingCollapsed": true
   },
   "source": [
    "### Suma y resta"
   ]
  },
  {
   "cell_type": "code",
   "execution_count": 149,
   "id": "003c3e26-2503-4fce-98e6-8b216fe0f01d",
   "metadata": {},
   "outputs": [
    {
     "name": "stdout",
     "output_type": "stream",
     "text": [
      "La suma de  1  y  6 es  7\n"
     ]
    }
   ],
   "source": [
    "# Caso 1\n",
    "num1 = 1\n",
    "num2 = 6\n",
    "# Suma\n",
    "sum = num1 + num2\n",
    "\n",
    "# Despliega el resultado\n",
    "print(f'La suma de  {num1}  y  {num2} es  {sum}')\n",
    "#--- usando la función format\n",
    "#print('La suma de  {0}  y  {1} es  {2}'.format(num1, num2, sum)) \n",
    "#--- usando el operador %\n",
    "#print(\"La suma de  %d  y  %d es  %d\" % (num1, num2, sum)) \n",
    "\n",
    "\n"
   ]
  },
  {
   "cell_type": "code",
   "execution_count": 156,
   "id": "1e6ebdbf-e654-41e6-a866-82948749f14c",
   "metadata": {},
   "outputs": [
    {
     "name": "stdout",
     "output_type": "stream",
     "text": [
      "10\n"
     ]
    }
   ],
   "source": [
    "# Caso 2\n",
    "entero= 1\n",
    "entero += 9 \n",
    "print(entero)"
   ]
  },
  {
   "cell_type": "markdown",
   "id": "4b799b93-6266-451f-80d6-54b4f2ff05b3",
   "metadata": {
    "jp-MarkdownHeadingCollapsed": true
   },
   "source": [
    "### Multiplicación"
   ]
  },
  {
   "cell_type": "code",
   "execution_count": 158,
   "id": "ee22b5c0-4ae1-44fb-8256-eb4eb0ee48b2",
   "metadata": {},
   "outputs": [
    {
     "data": {
      "text/plain": [
       "31.400000000000002"
      ]
     },
     "execution_count": 158,
     "metadata": {},
     "output_type": "execute_result"
    }
   ],
   "source": [
    "puntof = 3.14\n",
    "entero * puntof"
   ]
  },
  {
   "cell_type": "markdown",
   "id": "c28e827b-8d1d-453d-8fdf-e84575114c38",
   "metadata": {
    "jp-MarkdownHeadingCollapsed": true
   },
   "source": [
    "### División y División entera"
   ]
  },
  {
   "cell_type": "code",
   "execution_count": 164,
   "id": "1be7c137-69bc-46a1-b62c-6c612bbee608",
   "metadata": {},
   "outputs": [
    {
     "data": {
      "text/plain": [
       "5.0"
      ]
     },
     "execution_count": 164,
     "metadata": {},
     "output_type": "execute_result"
    }
   ],
   "source": [
    "entero/2"
   ]
  },
  {
   "cell_type": "code",
   "execution_count": 181,
   "id": "1deff393-5111-4f99-9a8d-5cb0b23e2a0f",
   "metadata": {},
   "outputs": [
    {
     "data": {
      "text/plain": [
       "3.3333333333333335"
      ]
     },
     "execution_count": 181,
     "metadata": {},
     "output_type": "execute_result"
    }
   ],
   "source": [
    "entero / 3"
   ]
  },
  {
   "cell_type": "code",
   "execution_count": 183,
   "id": "ed32c4b7-1345-432a-a408-c4c3410f0c09",
   "metadata": {},
   "outputs": [
    {
     "data": {
      "text/plain": [
       "3"
      ]
     },
     "execution_count": 183,
     "metadata": {},
     "output_type": "execute_result"
    }
   ],
   "source": [
    "entero // 3"
   ]
  },
  {
   "cell_type": "markdown",
   "id": "39c9464f-ed30-4a05-aed0-a5719a6e1068",
   "metadata": {
    "jp-MarkdownHeadingCollapsed": true
   },
   "source": [
    "### Módulo"
   ]
  },
  {
   "cell_type": "code",
   "execution_count": 168,
   "id": "2485cc08-819d-4d52-a504-6a408fb6be74",
   "metadata": {},
   "outputs": [
    {
     "data": {
      "text/plain": [
       "0"
      ]
     },
     "execution_count": 168,
     "metadata": {},
     "output_type": "execute_result"
    }
   ],
   "source": [
    "entero%2"
   ]
  },
  {
   "cell_type": "markdown",
   "id": "d56a0463-b33b-4c9f-83f9-76c0b872c5ed",
   "metadata": {},
   "source": [
    "### Potencia"
   ]
  },
  {
   "cell_type": "code",
   "execution_count": 171,
   "id": "34edb05a-1266-484d-965f-0ea1d7f20cca",
   "metadata": {},
   "outputs": [
    {
     "data": {
      "text/plain": [
       "100"
      ]
     },
     "execution_count": 171,
     "metadata": {},
     "output_type": "execute_result"
    }
   ],
   "source": [
    "entero ** 2"
   ]
  },
  {
   "cell_type": "markdown",
   "id": "d42dff2b-faac-4c5c-9b16-7962d265d8df",
   "metadata": {
    "jp-MarkdownHeadingCollapsed": true
   },
   "source": [
    "##  Manejo de cadenas de texto"
   ]
  },
  {
   "cell_type": "markdown",
   "id": "924405c2-0621-4594-af62-16792cc07cdd",
   "metadata": {},
   "source": [
    "### Concatenacion"
   ]
  },
  {
   "cell_type": "code",
   "execution_count": 192,
   "id": "b53e46de-2517-4ad7-8c42-640626471a25",
   "metadata": {},
   "outputs": [
    {
     "name": "stdout",
     "output_type": "stream",
     "text": [
      "Hola mundo!\n"
     ]
    }
   ],
   "source": [
    "cadena1 = \"Hola\"\n",
    "cadena2 = \"mundo!\"\n",
    "\n",
    "cadena_concatenada = cadena1 + \" \" + cadena2\n",
    "\n",
    "print(cadena_concatenada)"
   ]
  },
  {
   "cell_type": "markdown",
   "id": "d0167c1a-59cb-4514-9783-b29faa0eb4bb",
   "metadata": {},
   "source": [
    "### Repetición"
   ]
  },
  {
   "cell_type": "markdown",
   "id": "45fbc08b-35ae-4928-94ad-f9715db0ace7",
   "metadata": {},
   "source": [
    "<!-- ### Repetición -->"
   ]
  },
  {
   "cell_type": "code",
   "execution_count": 198,
   "id": "736d11e0-ba43-46ff-b491-4990b3329dd6",
   "metadata": {},
   "outputs": [
    {
     "name": "stdout",
     "output_type": "stream",
     "text": [
      "HolaHolaHolaHolaHola \n"
     ]
    }
   ],
   "source": [
    "cadena = \"Hola\"\n",
    "\n",
    "cadena_repetida = cadena * 5\n",
    "\n",
    "print(cadena_repetida)"
   ]
  },
  {
   "cell_type": "markdown",
   "id": "c054534b-0738-473f-9023-5aa600650f7e",
   "metadata": {},
   "source": [
    "### Indexación y corte"
   ]
  },
  {
   "cell_type": "code",
   "execution_count": 201,
   "id": "bd9dcd48-8210-4b20-955d-0870b21c82dd",
   "metadata": {},
   "outputs": [
    {
     "name": "stdout",
     "output_type": "stream",
     "text": [
      "H\n",
      "studiantes!\n"
     ]
    }
   ],
   "source": [
    "cadena = \"Hola estudiantes!\"\n",
    "\n",
    "# Acceder a un caracter\n",
    "print(cadena[0])\n",
    "\n",
    "# Obtener una subcadena\n",
    "print(cadena[6:])"
   ]
  },
  {
   "cell_type": "markdown",
   "id": "3d6fad42-9204-4316-b135-0764eb132652",
   "metadata": {},
   "source": [
    "### Métodos "
   ]
  },
  {
   "cell_type": "code",
   "execution_count": 212,
   "id": "36087c96-405f-4519-9f7f-a21bb2c3ad7f",
   "metadata": {},
   "outputs": [
    {
     "name": "stdout",
     "output_type": "stream",
     "text": [
      "HOLA ESTUDIANTES!\n",
      "hola estudiantes\n",
      "Saludos bienvenidos al curso de python\n",
      "SALUDOS BIENVENIDOS AL curso de python \n",
      "Saludos mi nombre es Diego\n",
      "111111111\n",
      "True\n",
      "True\n",
      "5\n",
      "2\n"
     ]
    }
   ],
   "source": [
    "#MAYUSCULA\n",
    "texto = \"hola estudiantes!\"\n",
    "x = texto.upper()\n",
    "print(x)\n",
    "\n",
    "#MINUSCULA\n",
    "texto = \"hola ESTUDIANTES\"\n",
    "x = texto.lower()\n",
    "print(x)\n",
    "\n",
    "\n",
    "#CONVERTIR EN MAYUSCULA LA PRIMERA LETRA\n",
    "texto = \"saludos bienvenidos al curso de PYTHON\"\n",
    "x = texto.capitalize()\n",
    "print(x)\n",
    "\n",
    "\n",
    "#INVERSOR\n",
    "texto = \"saludos bienvenidos al CURSO DE PYTHON \"\n",
    "x = texto.swapcase()\n",
    "print(x)\n",
    "\n",
    "#REPLACE\n",
    "texto = \"Hola mi nombre es Diego\"\n",
    "print(texto.replace(\"Hola\",\"Saludos\"))\n",
    "\n",
    "ced = \"1-1111-1111\"\n",
    "x= ced.replace(\"-\",\"\")\n",
    "print(x)\n",
    "\n",
    "# Comprobar si la cadena solo contiene letras\n",
    "cadena = \"Hola\"\n",
    "print(cadena.isalpha())\n",
    "# True\n",
    "\n",
    "# Comprobar si la cadena solo contiene números\n",
    "cadena = \"123\"\n",
    "print(cadena.isdigit())\n",
    "# True\n",
    "\n",
    "# Buscar la primera aparición de una subcadena\n",
    "cadena = \"Hola mundo!\"\n",
    "print(cadena.find(\"mundo\"))\n",
    "# Salida:\n",
    "# 6\n",
    "\n",
    "#CONTAR CUANTAS VECES APARECE UNA PALABRA\n",
    "txt= \"Este es curso de Python enfocado a aprender Python desde cero\"\n",
    "x = txt.count(\"Python\")\n",
    "print(x)"
   ]
  }
 ],
 "metadata": {
  "kernelspec": {
   "display_name": "Python 3 (ipykernel)",
   "language": "python",
   "name": "python3"
  },
  "language_info": {
   "codemirror_mode": {
    "name": "ipython",
    "version": 3
   },
   "file_extension": ".py",
   "mimetype": "text/x-python",
   "name": "python",
   "nbconvert_exporter": "python",
   "pygments_lexer": "ipython3",
   "version": "3.12.4"
  }
 },
 "nbformat": 4,
 "nbformat_minor": 5
}
